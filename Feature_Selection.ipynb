{
  "nbformat": 4,
  "nbformat_minor": 0,
  "metadata": {
    "colab": {
      "name": "Feature Selection.ipynb",
      "provenance": [],
      "collapsed_sections": [
        "vLCX3CZ-gL1-",
        "LwniJFDYgL2F",
        "BK9lQw0PgL2L",
        "AJO8jsw_gL2d"
      ]
    },
    "kernelspec": {
      "display_name": "Python 3",
      "language": "python",
      "name": "python3"
    },
    "language_info": {
      "codemirror_mode": {
        "name": "ipython",
        "version": 3
      },
      "file_extension": ".py",
      "mimetype": "text/x-python",
      "name": "python",
      "nbconvert_exporter": "python",
      "pygments_lexer": "ipython3",
      "version": "3.8.5"
    }
  },
  "cells": [
    {
      "cell_type": "markdown",
      "metadata": {
        "id": "NQpVgl_dUfUF"
      },
      "source": [
        "# <center> <u> Feature Selection </u> </center>"
      ]
    },
    {
      "cell_type": "markdown",
      "metadata": {
        "id": "fspSOuv8gL1g"
      },
      "source": [
        "<h2>What's the Purpose of Feature Selection</h2>\n",
        "<p>Many learning algorithms perform poorly on high-dimensional data. This is known as the <b>curse of dimensionality</b>\n",
        "    <p>There are other reasons we may wish to reduce the number of features including:\n",
        "        <p>1. Reducing computational cost\n",
        "            <p>2. Reducing the cost associated with data collection\n",
        "                <p>3. Improving Interpretability\n",
        "                    \n",
        "Reference for entire topic-\n",
        "\n",
        "https://www.youtube.com/watch?v=EqLBAmtKMnQ"
      ]
    },
    {
      "cell_type": "markdown",
      "metadata": {
        "id": "dlxmKpdfgL1i"
      },
      "source": [
        "![image.png](attachment:image.png)"
      ]
    },
    {
      "cell_type": "code",
      "metadata": {
        "id": "42GrWgOegL1j"
      },
      "source": [
        "#import these libraries as we are going to use them. \n",
        "# Note: just have a look what all libraries you have imported\n",
        "import pandas as pd\n",
        "import numpy as np\n",
        "\n",
        "from sklearn.feature_selection import SelectFromModel\n",
        "from sklearn.model_selection import train_test_split\n",
        "\n",
        "from sklearn.tree import DecisionTreeClassifier\n",
        "from sklearn.preprocessing import StandardScaler\n",
        "from sklearn.ensemble import RandomForestClassifier\n",
        "from sklearn.metrics import roc_auc_score\n",
        "from sklearn.preprocessing import StandardScaler\n",
        "from sklearn.pipeline import make_pipeline\n",
        "from sklearn.model_selection import KFold\n",
        "from sklearn.neighbors import KNeighborsRegressor\n",
        "from sklearn.metrics import mean_squared_error, r2_score\n",
        "from sklearn.model_selection import cross_val_predict\n",
        "from sklearn.linear_model import LinearRegression\n",
        "from math import sqrt"
      ],
      "execution_count": 1,
      "outputs": []
    },
    {
      "cell_type": "markdown",
      "metadata": {
        "id": "vgUp9RpmgL1k"
      },
      "source": [
        "## 1.Filter Methods:\n",
        "\n",
        "\n",
        "\n",
        "Filter method applies a statistical measure to assign a scoring to each feature.Then we can decide to keep or remove those features based on those scores. The methods are often univariate and consider the feature independently, or with regard to the dependent variable.\n",
        "\n",
        "In this section we will cover below approaches:\n",
        "\n",
        "1. Missing Value Ratio Threshold\n",
        "2. Variance Threshold\n",
        "3. $Chi^2$ Test\n",
        "4. Anova Test"
      ]
    },
    {
      "cell_type": "markdown",
      "metadata": {
        "id": "QXk4_vuqgL1l"
      },
      "source": [
        "Download the dataset from https://github.com/arupbhunia/Data-Pre-processing/blob/master/datasets/diabetes.csv\n",
        "\n",
        "Dataset used - diabetes.csv\n",
        "\n",
        "Download instruction: go to the given link--->click raw button on top right corner---->Press Ctrl+S -->save it as .csv file."
      ]
    },
    {
      "cell_type": "markdown",
      "metadata": {
        "id": "9YNQ5f7HgL1l"
      },
      "source": [
        "## (a) Missing Value Ratio Threshold\n",
        "\n",
        "<p style='text-align: right;'> 20 points</p>\n",
        "\n",
        "\n"
      ]
    },
    {
      "cell_type": "code",
      "metadata": {
        "colab": {
          "base_uri": "https://localhost:8080/",
          "height": 204
        },
        "id": "uKaPBRyOgL1m",
        "outputId": "aa4a76ae-5f99-4b82-b6a9-801d132fe743"
      },
      "source": [
        "# create a data frame named diabetes and load the csv file\n",
        "diabetes = pd.read_csv('diabetes.csv')\n",
        "#print the head \n",
        "diabetes.head()"
      ],
      "execution_count": 2,
      "outputs": [
        {
          "output_type": "execute_result",
          "data": {
            "text/html": [
              "<div>\n",
              "<style scoped>\n",
              "    .dataframe tbody tr th:only-of-type {\n",
              "        vertical-align: middle;\n",
              "    }\n",
              "\n",
              "    .dataframe tbody tr th {\n",
              "        vertical-align: top;\n",
              "    }\n",
              "\n",
              "    .dataframe thead th {\n",
              "        text-align: right;\n",
              "    }\n",
              "</style>\n",
              "<table border=\"1\" class=\"dataframe\">\n",
              "  <thead>\n",
              "    <tr style=\"text-align: right;\">\n",
              "      <th></th>\n",
              "      <th>Pregnancies</th>\n",
              "      <th>Glucose</th>\n",
              "      <th>BloodPressure</th>\n",
              "      <th>SkinThickness</th>\n",
              "      <th>Insulin</th>\n",
              "      <th>BMI</th>\n",
              "      <th>DiabetesPedigreeFunction</th>\n",
              "      <th>Age</th>\n",
              "      <th>Outcome</th>\n",
              "    </tr>\n",
              "  </thead>\n",
              "  <tbody>\n",
              "    <tr>\n",
              "      <th>0</th>\n",
              "      <td>6</td>\n",
              "      <td>148</td>\n",
              "      <td>72</td>\n",
              "      <td>35</td>\n",
              "      <td>0</td>\n",
              "      <td>33.6</td>\n",
              "      <td>0.627</td>\n",
              "      <td>50</td>\n",
              "      <td>1</td>\n",
              "    </tr>\n",
              "    <tr>\n",
              "      <th>1</th>\n",
              "      <td>1</td>\n",
              "      <td>85</td>\n",
              "      <td>66</td>\n",
              "      <td>29</td>\n",
              "      <td>0</td>\n",
              "      <td>26.6</td>\n",
              "      <td>0.351</td>\n",
              "      <td>31</td>\n",
              "      <td>0</td>\n",
              "    </tr>\n",
              "    <tr>\n",
              "      <th>2</th>\n",
              "      <td>8</td>\n",
              "      <td>183</td>\n",
              "      <td>64</td>\n",
              "      <td>0</td>\n",
              "      <td>0</td>\n",
              "      <td>23.3</td>\n",
              "      <td>0.672</td>\n",
              "      <td>32</td>\n",
              "      <td>1</td>\n",
              "    </tr>\n",
              "    <tr>\n",
              "      <th>3</th>\n",
              "      <td>1</td>\n",
              "      <td>89</td>\n",
              "      <td>66</td>\n",
              "      <td>23</td>\n",
              "      <td>94</td>\n",
              "      <td>28.1</td>\n",
              "      <td>0.167</td>\n",
              "      <td>21</td>\n",
              "      <td>0</td>\n",
              "    </tr>\n",
              "    <tr>\n",
              "      <th>4</th>\n",
              "      <td>0</td>\n",
              "      <td>137</td>\n",
              "      <td>40</td>\n",
              "      <td>35</td>\n",
              "      <td>168</td>\n",
              "      <td>43.1</td>\n",
              "      <td>2.288</td>\n",
              "      <td>33</td>\n",
              "      <td>1</td>\n",
              "    </tr>\n",
              "  </tbody>\n",
              "</table>\n",
              "</div>"
            ],
            "text/plain": [
              "   Pregnancies  Glucose  BloodPressure  ...  DiabetesPedigreeFunction  Age  Outcome\n",
              "0            6      148             72  ...                     0.627   50        1\n",
              "1            1       85             66  ...                     0.351   31        0\n",
              "2            8      183             64  ...                     0.672   32        1\n",
              "3            1       89             66  ...                     0.167   21        0\n",
              "4            0      137             40  ...                     2.288   33        1\n",
              "\n",
              "[5 rows x 9 columns]"
            ]
          },
          "metadata": {
            "tags": []
          },
          "execution_count": 2
        }
      ]
    },
    {
      "cell_type": "markdown",
      "metadata": {
        "id": "5otVWxP5gL1o"
      },
      "source": [
        "We know that some features can not be zero(e.g. a person's blood pressure can not be 0) hence we will impute zeros with nan value in these features.\n",
        "\n",
        "Reference to impute: https://pandas.pydata.org/pandas-docs/version/0.23/generated/pandas.DataFrame.replace.html"
      ]
    },
    {
      "cell_type": "code",
      "metadata": {
        "id": "H42fWOqdgL1p",
        "colab": {
          "base_uri": "https://localhost:8080/",
          "height": 204
        },
        "outputId": "43ac750c-81a1-474e-c590-d4caee719ed0"
      },
      "source": [
        "#Glucose BloodPressure, SkinThickness, Insulin, and BMI features cannot be zero ,we will impute zeros with nan value in these features.\n",
        "req_columns = ['Glucose', 'BloodPressure','SkinThickness','Insulin','BMI']\n",
        "diabetes.loc[:,req_columns] = diabetes.loc[:,req_columns].replace( 0, np.nan)\n",
        "diabetes.head()"
      ],
      "execution_count": 3,
      "outputs": [
        {
          "output_type": "execute_result",
          "data": {
            "text/html": [
              "<div>\n",
              "<style scoped>\n",
              "    .dataframe tbody tr th:only-of-type {\n",
              "        vertical-align: middle;\n",
              "    }\n",
              "\n",
              "    .dataframe tbody tr th {\n",
              "        vertical-align: top;\n",
              "    }\n",
              "\n",
              "    .dataframe thead th {\n",
              "        text-align: right;\n",
              "    }\n",
              "</style>\n",
              "<table border=\"1\" class=\"dataframe\">\n",
              "  <thead>\n",
              "    <tr style=\"text-align: right;\">\n",
              "      <th></th>\n",
              "      <th>Pregnancies</th>\n",
              "      <th>Glucose</th>\n",
              "      <th>BloodPressure</th>\n",
              "      <th>SkinThickness</th>\n",
              "      <th>Insulin</th>\n",
              "      <th>BMI</th>\n",
              "      <th>DiabetesPedigreeFunction</th>\n",
              "      <th>Age</th>\n",
              "      <th>Outcome</th>\n",
              "    </tr>\n",
              "  </thead>\n",
              "  <tbody>\n",
              "    <tr>\n",
              "      <th>0</th>\n",
              "      <td>6</td>\n",
              "      <td>148.0</td>\n",
              "      <td>72.0</td>\n",
              "      <td>35.0</td>\n",
              "      <td>NaN</td>\n",
              "      <td>33.6</td>\n",
              "      <td>0.627</td>\n",
              "      <td>50</td>\n",
              "      <td>1</td>\n",
              "    </tr>\n",
              "    <tr>\n",
              "      <th>1</th>\n",
              "      <td>1</td>\n",
              "      <td>85.0</td>\n",
              "      <td>66.0</td>\n",
              "      <td>29.0</td>\n",
              "      <td>NaN</td>\n",
              "      <td>26.6</td>\n",
              "      <td>0.351</td>\n",
              "      <td>31</td>\n",
              "      <td>0</td>\n",
              "    </tr>\n",
              "    <tr>\n",
              "      <th>2</th>\n",
              "      <td>8</td>\n",
              "      <td>183.0</td>\n",
              "      <td>64.0</td>\n",
              "      <td>NaN</td>\n",
              "      <td>NaN</td>\n",
              "      <td>23.3</td>\n",
              "      <td>0.672</td>\n",
              "      <td>32</td>\n",
              "      <td>1</td>\n",
              "    </tr>\n",
              "    <tr>\n",
              "      <th>3</th>\n",
              "      <td>1</td>\n",
              "      <td>89.0</td>\n",
              "      <td>66.0</td>\n",
              "      <td>23.0</td>\n",
              "      <td>94.0</td>\n",
              "      <td>28.1</td>\n",
              "      <td>0.167</td>\n",
              "      <td>21</td>\n",
              "      <td>0</td>\n",
              "    </tr>\n",
              "    <tr>\n",
              "      <th>4</th>\n",
              "      <td>0</td>\n",
              "      <td>137.0</td>\n",
              "      <td>40.0</td>\n",
              "      <td>35.0</td>\n",
              "      <td>168.0</td>\n",
              "      <td>43.1</td>\n",
              "      <td>2.288</td>\n",
              "      <td>33</td>\n",
              "      <td>1</td>\n",
              "    </tr>\n",
              "  </tbody>\n",
              "</table>\n",
              "</div>"
            ],
            "text/plain": [
              "   Pregnancies  Glucose  BloodPressure  ...  DiabetesPedigreeFunction  Age  Outcome\n",
              "0            6    148.0           72.0  ...                     0.627   50        1\n",
              "1            1     85.0           66.0  ...                     0.351   31        0\n",
              "2            8    183.0           64.0  ...                     0.672   32        1\n",
              "3            1     89.0           66.0  ...                     0.167   21        0\n",
              "4            0    137.0           40.0  ...                     2.288   33        1\n",
              "\n",
              "[5 rows x 9 columns]"
            ]
          },
          "metadata": {
            "tags": []
          },
          "execution_count": 3
        }
      ]
    },
    {
      "cell_type": "code",
      "metadata": {
        "id": "TTay5Y3UgL1p",
        "colab": {
          "base_uri": "https://localhost:8080/"
        },
        "outputId": "1da25508-9474-49cc-acfe-477148d304f3"
      },
      "source": [
        "#display the no of null values in each feature\n",
        "diabetes.isnull().sum()"
      ],
      "execution_count": 4,
      "outputs": [
        {
          "output_type": "execute_result",
          "data": {
            "text/plain": [
              "Pregnancies                   0\n",
              "Glucose                       5\n",
              "BloodPressure                35\n",
              "SkinThickness               227\n",
              "Insulin                     374\n",
              "BMI                          11\n",
              "DiabetesPedigreeFunction      0\n",
              "Age                           0\n",
              "Outcome                       0\n",
              "dtype: int64"
            ]
          },
          "metadata": {
            "tags": []
          },
          "execution_count": 4
        }
      ]
    },
    {
      "cell_type": "markdown",
      "metadata": {
        "id": "ZCubxQjQgL1q"
      },
      "source": [
        "Now let's see for each feature what is the percentage of having missing values."
      ]
    },
    {
      "cell_type": "code",
      "metadata": {
        "id": "e6Da_8ckgL1q",
        "colab": {
          "base_uri": "https://localhost:8080/"
        },
        "outputId": "5e739db5-5a70-4101-f137-0545d6cb57b0"
      },
      "source": [
        "#percentage of missing values for Glucose\n",
        "(diabetes['Glucose'].isnull().sum()/len(diabetes['Glucose']))*100"
      ],
      "execution_count": 5,
      "outputs": [
        {
          "output_type": "execute_result",
          "data": {
            "text/plain": [
              "0.6510416666666667"
            ]
          },
          "metadata": {
            "tags": []
          },
          "execution_count": 5
        }
      ]
    },
    {
      "cell_type": "code",
      "metadata": {
        "id": "yH11X6E-gL1r",
        "colab": {
          "base_uri": "https://localhost:8080/"
        },
        "outputId": "0316b6b4-1a13-4d1c-a230-6dbc69b016b3"
      },
      "source": [
        "# calculate the percentage for Bloodpressure\n",
        "(diabetes['BloodPressure'].isnull().sum()/len(diabetes['BloodPressure']))*100"
      ],
      "execution_count": 6,
      "outputs": [
        {
          "output_type": "execute_result",
          "data": {
            "text/plain": [
              "4.557291666666666"
            ]
          },
          "metadata": {
            "tags": []
          },
          "execution_count": 6
        }
      ]
    },
    {
      "cell_type": "code",
      "metadata": {
        "id": "K8hXFmfAgL1s",
        "colab": {
          "base_uri": "https://localhost:8080/"
        },
        "outputId": "3186c861-6033-45b3-9c14-55666df30d15"
      },
      "source": [
        "# calculate the percentage for SkinThickness\n",
        "(diabetes['SkinThickness'].isnull().sum()/len(diabetes['SkinThickness']))*100"
      ],
      "execution_count": 7,
      "outputs": [
        {
          "output_type": "execute_result",
          "data": {
            "text/plain": [
              "29.557291666666668"
            ]
          },
          "metadata": {
            "tags": []
          },
          "execution_count": 7
        }
      ]
    },
    {
      "cell_type": "code",
      "metadata": {
        "id": "pPLqE-aFgL1s",
        "colab": {
          "base_uri": "https://localhost:8080/"
        },
        "outputId": "8e8ed81c-f1bf-42ec-ce22-cbb782e81e00"
      },
      "source": [
        "# calculate the percentage for Insulin\n",
        "(diabetes['Insulin'].isnull().sum()/len(diabetes['Insulin']))*100"
      ],
      "execution_count": 8,
      "outputs": [
        {
          "output_type": "execute_result",
          "data": {
            "text/plain": [
              "48.69791666666667"
            ]
          },
          "metadata": {
            "tags": []
          },
          "execution_count": 8
        }
      ]
    },
    {
      "cell_type": "code",
      "metadata": {
        "id": "d4C2S-kGgL1t",
        "colab": {
          "base_uri": "https://localhost:8080/"
        },
        "outputId": "30334ba6-3053-4d77-ca8d-889a20e6263c"
      },
      "source": [
        "# calculate the percentage for BMI\n",
        "(diabetes['BMI'].isnull().sum()/len(diabetes['BMI']))*100"
      ],
      "execution_count": 9,
      "outputs": [
        {
          "output_type": "execute_result",
          "data": {
            "text/plain": [
              "1.4322916666666665"
            ]
          },
          "metadata": {
            "tags": []
          },
          "execution_count": 9
        }
      ]
    },
    {
      "cell_type": "markdown",
      "metadata": {
        "id": "C_ldWGZEgL1t"
      },
      "source": [
        "Hey can you see that a large number of data missing in SkinThickness and Insulin."
      ]
    },
    {
      "cell_type": "markdown",
      "metadata": {
        "id": "1WSB87-PgL1t"
      },
      "source": [
        "Here we will keep only those features which are having missing data less than 10% as our threshold.\n",
        "\n",
        "Reference to check methods for dropping nan in pandas- https://www.youtube.com/watch?v=57vFbsiZYHg\n",
        "\n",
        "You can also check its document official: https://pandas.pydata.org/pandas-docs/stable/reference/api/pandas.DataFrame.dropna.html"
      ]
    },
    {
      "cell_type": "code",
      "metadata": {
        "colab": {
          "base_uri": "https://localhost:8080/"
        },
        "id": "vD-ne_CoV2tq",
        "outputId": "07699f9f-48e0-44a3-ef77-1bd23142d84f"
      },
      "source": [
        "diabetes_missing_value_threshold= diabetes.dropna(axis= 1, thresh = int(0.9*diabetes.shape[0]))\n",
        "diabetes.shape\n",
        "diabetes_missing_value_threshold.shape"
      ],
      "execution_count": 10,
      "outputs": [
        {
          "output_type": "execute_result",
          "data": {
            "text/plain": [
              "(768, 7)"
            ]
          },
          "metadata": {
            "tags": []
          },
          "execution_count": 10
        }
      ]
    },
    {
      "cell_type": "code",
      "metadata": {
        "id": "RpeHmuAwgL1u",
        "colab": {
          "base_uri": "https://localhost:8080/",
          "height": 419
        },
        "outputId": "0e35ed70-d567-40b6-efad-cab52552706e"
      },
      "source": [
        "#we are keep only those features which are having missing data less than 10% \n",
        "diabetes_missing_value_threshold=diabetes_missing_value_threshold= diabetes.dropna(axis= 1, thresh = int(0.9*diabetes.shape[0]))\n",
        "\n",
        "# Here we will drop columns where we have more than 10% of null values i.e our threshhold of 90% (0.9).\n",
        "\n",
        "# print diabetes_missing_value_threshold\n",
        "diabetes_missing_value_threshold"
      ],
      "execution_count": 11,
      "outputs": [
        {
          "output_type": "execute_result",
          "data": {
            "text/html": [
              "<div>\n",
              "<style scoped>\n",
              "    .dataframe tbody tr th:only-of-type {\n",
              "        vertical-align: middle;\n",
              "    }\n",
              "\n",
              "    .dataframe tbody tr th {\n",
              "        vertical-align: top;\n",
              "    }\n",
              "\n",
              "    .dataframe thead th {\n",
              "        text-align: right;\n",
              "    }\n",
              "</style>\n",
              "<table border=\"1\" class=\"dataframe\">\n",
              "  <thead>\n",
              "    <tr style=\"text-align: right;\">\n",
              "      <th></th>\n",
              "      <th>Pregnancies</th>\n",
              "      <th>Glucose</th>\n",
              "      <th>BloodPressure</th>\n",
              "      <th>BMI</th>\n",
              "      <th>DiabetesPedigreeFunction</th>\n",
              "      <th>Age</th>\n",
              "      <th>Outcome</th>\n",
              "    </tr>\n",
              "  </thead>\n",
              "  <tbody>\n",
              "    <tr>\n",
              "      <th>0</th>\n",
              "      <td>6</td>\n",
              "      <td>148.0</td>\n",
              "      <td>72.0</td>\n",
              "      <td>33.6</td>\n",
              "      <td>0.627</td>\n",
              "      <td>50</td>\n",
              "      <td>1</td>\n",
              "    </tr>\n",
              "    <tr>\n",
              "      <th>1</th>\n",
              "      <td>1</td>\n",
              "      <td>85.0</td>\n",
              "      <td>66.0</td>\n",
              "      <td>26.6</td>\n",
              "      <td>0.351</td>\n",
              "      <td>31</td>\n",
              "      <td>0</td>\n",
              "    </tr>\n",
              "    <tr>\n",
              "      <th>2</th>\n",
              "      <td>8</td>\n",
              "      <td>183.0</td>\n",
              "      <td>64.0</td>\n",
              "      <td>23.3</td>\n",
              "      <td>0.672</td>\n",
              "      <td>32</td>\n",
              "      <td>1</td>\n",
              "    </tr>\n",
              "    <tr>\n",
              "      <th>3</th>\n",
              "      <td>1</td>\n",
              "      <td>89.0</td>\n",
              "      <td>66.0</td>\n",
              "      <td>28.1</td>\n",
              "      <td>0.167</td>\n",
              "      <td>21</td>\n",
              "      <td>0</td>\n",
              "    </tr>\n",
              "    <tr>\n",
              "      <th>4</th>\n",
              "      <td>0</td>\n",
              "      <td>137.0</td>\n",
              "      <td>40.0</td>\n",
              "      <td>43.1</td>\n",
              "      <td>2.288</td>\n",
              "      <td>33</td>\n",
              "      <td>1</td>\n",
              "    </tr>\n",
              "    <tr>\n",
              "      <th>...</th>\n",
              "      <td>...</td>\n",
              "      <td>...</td>\n",
              "      <td>...</td>\n",
              "      <td>...</td>\n",
              "      <td>...</td>\n",
              "      <td>...</td>\n",
              "      <td>...</td>\n",
              "    </tr>\n",
              "    <tr>\n",
              "      <th>763</th>\n",
              "      <td>10</td>\n",
              "      <td>101.0</td>\n",
              "      <td>76.0</td>\n",
              "      <td>32.9</td>\n",
              "      <td>0.171</td>\n",
              "      <td>63</td>\n",
              "      <td>0</td>\n",
              "    </tr>\n",
              "    <tr>\n",
              "      <th>764</th>\n",
              "      <td>2</td>\n",
              "      <td>122.0</td>\n",
              "      <td>70.0</td>\n",
              "      <td>36.8</td>\n",
              "      <td>0.340</td>\n",
              "      <td>27</td>\n",
              "      <td>0</td>\n",
              "    </tr>\n",
              "    <tr>\n",
              "      <th>765</th>\n",
              "      <td>5</td>\n",
              "      <td>121.0</td>\n",
              "      <td>72.0</td>\n",
              "      <td>26.2</td>\n",
              "      <td>0.245</td>\n",
              "      <td>30</td>\n",
              "      <td>0</td>\n",
              "    </tr>\n",
              "    <tr>\n",
              "      <th>766</th>\n",
              "      <td>1</td>\n",
              "      <td>126.0</td>\n",
              "      <td>60.0</td>\n",
              "      <td>30.1</td>\n",
              "      <td>0.349</td>\n",
              "      <td>47</td>\n",
              "      <td>1</td>\n",
              "    </tr>\n",
              "    <tr>\n",
              "      <th>767</th>\n",
              "      <td>1</td>\n",
              "      <td>93.0</td>\n",
              "      <td>70.0</td>\n",
              "      <td>30.4</td>\n",
              "      <td>0.315</td>\n",
              "      <td>23</td>\n",
              "      <td>0</td>\n",
              "    </tr>\n",
              "  </tbody>\n",
              "</table>\n",
              "<p>768 rows × 7 columns</p>\n",
              "</div>"
            ],
            "text/plain": [
              "     Pregnancies  Glucose  ...  Age  Outcome\n",
              "0              6    148.0  ...   50        1\n",
              "1              1     85.0  ...   31        0\n",
              "2              8    183.0  ...   32        1\n",
              "3              1     89.0  ...   21        0\n",
              "4              0    137.0  ...   33        1\n",
              "..           ...      ...  ...  ...      ...\n",
              "763           10    101.0  ...   63        0\n",
              "764            2    122.0  ...   27        0\n",
              "765            5    121.0  ...   30        0\n",
              "766            1    126.0  ...   47        1\n",
              "767            1     93.0  ...   23        0\n",
              "\n",
              "[768 rows x 7 columns]"
            ]
          },
          "metadata": {
            "tags": []
          },
          "execution_count": 11
        }
      ]
    },
    {
      "cell_type": "markdown",
      "metadata": {
        "id": "pQBmD2fSgL1u"
      },
      "source": [
        "Let's now Seperate the data diabetes_missing_value_threshold into features and labels \n",
        "\n",
        "Hey buddy! label is something which is dependent on other features for its outcome. You can also called it as our Target variable which we predict using ML algorithms.\n",
        "\n",
        "Can you think which column would be considered as label.\n"
      ]
    },
    {
      "cell_type": "code",
      "metadata": {
        "id": "RhMW51ZdgL1v"
      },
      "source": [
        "feature_columns = ['Pregnancies', 'Glucose', 'BloodPressure','BMI', 'DiabetesPedigreeFunction', 'Age']\n",
        "label_column = ['Outcome']\n",
        "diabetes_missing_value_threshold_features = diabetes[feature_columns]\n",
        "\n",
        "diabetes_missing_value_threshold_label= diabetes[label_column]\n"
      ],
      "execution_count": 12,
      "outputs": []
    },
    {
      "cell_type": "code",
      "metadata": {
        "id": "dqpQZc8egL1w",
        "colab": {
          "base_uri": "https://localhost:8080/",
          "height": 419
        },
        "outputId": "a90e5d6b-cac7-421b-9fa5-9e4f3ac61997"
      },
      "source": [
        "#print diabetes_missing_value_threshold_features\n",
        "diabetes_missing_value_threshold_features"
      ],
      "execution_count": 13,
      "outputs": [
        {
          "output_type": "execute_result",
          "data": {
            "text/html": [
              "<div>\n",
              "<style scoped>\n",
              "    .dataframe tbody tr th:only-of-type {\n",
              "        vertical-align: middle;\n",
              "    }\n",
              "\n",
              "    .dataframe tbody tr th {\n",
              "        vertical-align: top;\n",
              "    }\n",
              "\n",
              "    .dataframe thead th {\n",
              "        text-align: right;\n",
              "    }\n",
              "</style>\n",
              "<table border=\"1\" class=\"dataframe\">\n",
              "  <thead>\n",
              "    <tr style=\"text-align: right;\">\n",
              "      <th></th>\n",
              "      <th>Pregnancies</th>\n",
              "      <th>Glucose</th>\n",
              "      <th>BloodPressure</th>\n",
              "      <th>BMI</th>\n",
              "      <th>DiabetesPedigreeFunction</th>\n",
              "      <th>Age</th>\n",
              "    </tr>\n",
              "  </thead>\n",
              "  <tbody>\n",
              "    <tr>\n",
              "      <th>0</th>\n",
              "      <td>6</td>\n",
              "      <td>148.0</td>\n",
              "      <td>72.0</td>\n",
              "      <td>33.6</td>\n",
              "      <td>0.627</td>\n",
              "      <td>50</td>\n",
              "    </tr>\n",
              "    <tr>\n",
              "      <th>1</th>\n",
              "      <td>1</td>\n",
              "      <td>85.0</td>\n",
              "      <td>66.0</td>\n",
              "      <td>26.6</td>\n",
              "      <td>0.351</td>\n",
              "      <td>31</td>\n",
              "    </tr>\n",
              "    <tr>\n",
              "      <th>2</th>\n",
              "      <td>8</td>\n",
              "      <td>183.0</td>\n",
              "      <td>64.0</td>\n",
              "      <td>23.3</td>\n",
              "      <td>0.672</td>\n",
              "      <td>32</td>\n",
              "    </tr>\n",
              "    <tr>\n",
              "      <th>3</th>\n",
              "      <td>1</td>\n",
              "      <td>89.0</td>\n",
              "      <td>66.0</td>\n",
              "      <td>28.1</td>\n",
              "      <td>0.167</td>\n",
              "      <td>21</td>\n",
              "    </tr>\n",
              "    <tr>\n",
              "      <th>4</th>\n",
              "      <td>0</td>\n",
              "      <td>137.0</td>\n",
              "      <td>40.0</td>\n",
              "      <td>43.1</td>\n",
              "      <td>2.288</td>\n",
              "      <td>33</td>\n",
              "    </tr>\n",
              "    <tr>\n",
              "      <th>...</th>\n",
              "      <td>...</td>\n",
              "      <td>...</td>\n",
              "      <td>...</td>\n",
              "      <td>...</td>\n",
              "      <td>...</td>\n",
              "      <td>...</td>\n",
              "    </tr>\n",
              "    <tr>\n",
              "      <th>763</th>\n",
              "      <td>10</td>\n",
              "      <td>101.0</td>\n",
              "      <td>76.0</td>\n",
              "      <td>32.9</td>\n",
              "      <td>0.171</td>\n",
              "      <td>63</td>\n",
              "    </tr>\n",
              "    <tr>\n",
              "      <th>764</th>\n",
              "      <td>2</td>\n",
              "      <td>122.0</td>\n",
              "      <td>70.0</td>\n",
              "      <td>36.8</td>\n",
              "      <td>0.340</td>\n",
              "      <td>27</td>\n",
              "    </tr>\n",
              "    <tr>\n",
              "      <th>765</th>\n",
              "      <td>5</td>\n",
              "      <td>121.0</td>\n",
              "      <td>72.0</td>\n",
              "      <td>26.2</td>\n",
              "      <td>0.245</td>\n",
              "      <td>30</td>\n",
              "    </tr>\n",
              "    <tr>\n",
              "      <th>766</th>\n",
              "      <td>1</td>\n",
              "      <td>126.0</td>\n",
              "      <td>60.0</td>\n",
              "      <td>30.1</td>\n",
              "      <td>0.349</td>\n",
              "      <td>47</td>\n",
              "    </tr>\n",
              "    <tr>\n",
              "      <th>767</th>\n",
              "      <td>1</td>\n",
              "      <td>93.0</td>\n",
              "      <td>70.0</td>\n",
              "      <td>30.4</td>\n",
              "      <td>0.315</td>\n",
              "      <td>23</td>\n",
              "    </tr>\n",
              "  </tbody>\n",
              "</table>\n",
              "<p>768 rows × 6 columns</p>\n",
              "</div>"
            ],
            "text/plain": [
              "     Pregnancies  Glucose  BloodPressure   BMI  DiabetesPedigreeFunction  Age\n",
              "0              6    148.0           72.0  33.6                     0.627   50\n",
              "1              1     85.0           66.0  26.6                     0.351   31\n",
              "2              8    183.0           64.0  23.3                     0.672   32\n",
              "3              1     89.0           66.0  28.1                     0.167   21\n",
              "4              0    137.0           40.0  43.1                     2.288   33\n",
              "..           ...      ...            ...   ...                       ...  ...\n",
              "763           10    101.0           76.0  32.9                     0.171   63\n",
              "764            2    122.0           70.0  36.8                     0.340   27\n",
              "765            5    121.0           72.0  26.2                     0.245   30\n",
              "766            1    126.0           60.0  30.1                     0.349   47\n",
              "767            1     93.0           70.0  30.4                     0.315   23\n",
              "\n",
              "[768 rows x 6 columns]"
            ]
          },
          "metadata": {
            "tags": []
          },
          "execution_count": 13
        }
      ]
    },
    {
      "cell_type": "code",
      "metadata": {
        "id": "MkkvvXJ3gL1x",
        "colab": {
          "base_uri": "https://localhost:8080/",
          "height": 419
        },
        "outputId": "99de0195-072d-4de7-b16c-02eae63cfd1c"
      },
      "source": [
        "#print diabetes_missing_value_threshold_label\n",
        "diabetes_missing_value_threshold_label"
      ],
      "execution_count": null,
      "outputs": [
        {
          "output_type": "execute_result",
          "data": {
            "text/html": [
              "<div>\n",
              "<style scoped>\n",
              "    .dataframe tbody tr th:only-of-type {\n",
              "        vertical-align: middle;\n",
              "    }\n",
              "\n",
              "    .dataframe tbody tr th {\n",
              "        vertical-align: top;\n",
              "    }\n",
              "\n",
              "    .dataframe thead th {\n",
              "        text-align: right;\n",
              "    }\n",
              "</style>\n",
              "<table border=\"1\" class=\"dataframe\">\n",
              "  <thead>\n",
              "    <tr style=\"text-align: right;\">\n",
              "      <th></th>\n",
              "      <th>Outcome</th>\n",
              "    </tr>\n",
              "  </thead>\n",
              "  <tbody>\n",
              "    <tr>\n",
              "      <th>0</th>\n",
              "      <td>1</td>\n",
              "    </tr>\n",
              "    <tr>\n",
              "      <th>1</th>\n",
              "      <td>0</td>\n",
              "    </tr>\n",
              "    <tr>\n",
              "      <th>2</th>\n",
              "      <td>1</td>\n",
              "    </tr>\n",
              "    <tr>\n",
              "      <th>3</th>\n",
              "      <td>0</td>\n",
              "    </tr>\n",
              "    <tr>\n",
              "      <th>4</th>\n",
              "      <td>1</td>\n",
              "    </tr>\n",
              "    <tr>\n",
              "      <th>...</th>\n",
              "      <td>...</td>\n",
              "    </tr>\n",
              "    <tr>\n",
              "      <th>763</th>\n",
              "      <td>0</td>\n",
              "    </tr>\n",
              "    <tr>\n",
              "      <th>764</th>\n",
              "      <td>0</td>\n",
              "    </tr>\n",
              "    <tr>\n",
              "      <th>765</th>\n",
              "      <td>0</td>\n",
              "    </tr>\n",
              "    <tr>\n",
              "      <th>766</th>\n",
              "      <td>1</td>\n",
              "    </tr>\n",
              "    <tr>\n",
              "      <th>767</th>\n",
              "      <td>0</td>\n",
              "    </tr>\n",
              "  </tbody>\n",
              "</table>\n",
              "<p>768 rows × 1 columns</p>\n",
              "</div>"
            ],
            "text/plain": [
              "     Outcome\n",
              "0          1\n",
              "1          0\n",
              "2          1\n",
              "3          0\n",
              "4          1\n",
              "..       ...\n",
              "763        0\n",
              "764        0\n",
              "765        0\n",
              "766        1\n",
              "767        0\n",
              "\n",
              "[768 rows x 1 columns]"
            ]
          },
          "metadata": {
            "tags": []
          },
          "execution_count": 34
        }
      ]
    },
    {
      "cell_type": "markdown",
      "metadata": {
        "id": "zR73sD-5gL1y"
      },
      "source": [
        "## (b) Variance Threshold\n",
        "\n",
        "<p style='text-align: right;'> 20 points</p>\n",
        "\n",
        "If the variance is low or close to zero, then a feature is approximately constant and will not improve the performance of the model. In that case, it should be removed.\n",
        "\n",
        "Variance will also be very low for a feature if only a handful of observations of that feature differ from a constant value.\n"
      ]
    },
    {
      "cell_type": "markdown",
      "metadata": {
        "id": "cK7upArhgL1z"
      },
      "source": [
        "Reference-\n",
        "https://www.youtube.com/watch?v=uMlU2JaiOd8"
      ]
    },
    {
      "cell_type": "markdown",
      "metadata": {
        "id": "eiUqWc6OgL10"
      },
      "source": [
        "Are you ready to implement feature selection using variance threshold? Smile and download the dataset diabetes_cleaned.csv from https://github.com/arupbhunia/Data-Pre-processing/blob/master/datasets/diabetes_cleaned.csv\n",
        "\n",
        "Dataset used - diabetes_cleaned.csv"
      ]
    },
    {
      "cell_type": "code",
      "metadata": {
        "id": "uxIHTRMqgL11",
        "colab": {
          "base_uri": "https://localhost:8080/",
          "height": 204
        },
        "outputId": "fc1a3cb3-48ed-4672-fd1f-fe2acf53a082"
      },
      "source": [
        "# load the csv to dataframe name \"diabetes\" and print the head values\n",
        "diabetes = pd.read_csv('diabetes_cleaned.csv')\n",
        "\n",
        "# display diabetes.head()\n",
        "diabetes.head()"
      ],
      "execution_count": 34,
      "outputs": [
        {
          "output_type": "execute_result",
          "data": {
            "text/html": [
              "<div>\n",
              "<style scoped>\n",
              "    .dataframe tbody tr th:only-of-type {\n",
              "        vertical-align: middle;\n",
              "    }\n",
              "\n",
              "    .dataframe tbody tr th {\n",
              "        vertical-align: top;\n",
              "    }\n",
              "\n",
              "    .dataframe thead th {\n",
              "        text-align: right;\n",
              "    }\n",
              "</style>\n",
              "<table border=\"1\" class=\"dataframe\">\n",
              "  <thead>\n",
              "    <tr style=\"text-align: right;\">\n",
              "      <th></th>\n",
              "      <th>Pregnancies</th>\n",
              "      <th>Glucose</th>\n",
              "      <th>BloodPressure</th>\n",
              "      <th>SkinThickness</th>\n",
              "      <th>Insulin</th>\n",
              "      <th>BMI</th>\n",
              "      <th>DiabetesPedigreeFunction</th>\n",
              "      <th>Age</th>\n",
              "      <th>Outcome</th>\n",
              "    </tr>\n",
              "  </thead>\n",
              "  <tbody>\n",
              "    <tr>\n",
              "      <th>0</th>\n",
              "      <td>6.0</td>\n",
              "      <td>148.0</td>\n",
              "      <td>72.0</td>\n",
              "      <td>35.0</td>\n",
              "      <td>218.937760</td>\n",
              "      <td>33.6</td>\n",
              "      <td>0.627</td>\n",
              "      <td>50.0</td>\n",
              "      <td>1</td>\n",
              "    </tr>\n",
              "    <tr>\n",
              "      <th>1</th>\n",
              "      <td>1.0</td>\n",
              "      <td>85.0</td>\n",
              "      <td>66.0</td>\n",
              "      <td>29.0</td>\n",
              "      <td>70.189298</td>\n",
              "      <td>26.6</td>\n",
              "      <td>0.351</td>\n",
              "      <td>31.0</td>\n",
              "      <td>0</td>\n",
              "    </tr>\n",
              "    <tr>\n",
              "      <th>2</th>\n",
              "      <td>8.0</td>\n",
              "      <td>183.0</td>\n",
              "      <td>64.0</td>\n",
              "      <td>29.0</td>\n",
              "      <td>269.968908</td>\n",
              "      <td>23.3</td>\n",
              "      <td>0.672</td>\n",
              "      <td>32.0</td>\n",
              "      <td>1</td>\n",
              "    </tr>\n",
              "    <tr>\n",
              "      <th>3</th>\n",
              "      <td>1.0</td>\n",
              "      <td>89.0</td>\n",
              "      <td>66.0</td>\n",
              "      <td>23.0</td>\n",
              "      <td>94.000000</td>\n",
              "      <td>28.1</td>\n",
              "      <td>0.167</td>\n",
              "      <td>21.0</td>\n",
              "      <td>0</td>\n",
              "    </tr>\n",
              "    <tr>\n",
              "      <th>4</th>\n",
              "      <td>0.0</td>\n",
              "      <td>137.0</td>\n",
              "      <td>40.0</td>\n",
              "      <td>35.0</td>\n",
              "      <td>168.000000</td>\n",
              "      <td>43.1</td>\n",
              "      <td>2.288</td>\n",
              "      <td>33.0</td>\n",
              "      <td>1</td>\n",
              "    </tr>\n",
              "  </tbody>\n",
              "</table>\n",
              "</div>"
            ],
            "text/plain": [
              "   Pregnancies  Glucose  BloodPressure  ...  DiabetesPedigreeFunction   Age  Outcome\n",
              "0          6.0    148.0           72.0  ...                     0.627  50.0        1\n",
              "1          1.0     85.0           66.0  ...                     0.351  31.0        0\n",
              "2          8.0    183.0           64.0  ...                     0.672  32.0        1\n",
              "3          1.0     89.0           66.0  ...                     0.167  21.0        0\n",
              "4          0.0    137.0           40.0  ...                     2.288  33.0        1\n",
              "\n",
              "[5 rows x 9 columns]"
            ]
          },
          "metadata": {
            "tags": []
          },
          "execution_count": 34
        }
      ]
    },
    {
      "cell_type": "code",
      "metadata": {
        "id": "jPFIDMJFgL11"
      },
      "source": [
        "# seperate the features and the target as x and y \n",
        "x = ['Pregnancies', 'Glucose', 'BloodPressure', 'SkinThickness', 'Insulin',\n",
        "       'BMI', 'DiabetesPedigreeFunction', 'Age']\n",
        "y = ['Outcome']\n",
        "       "
      ],
      "execution_count": 20,
      "outputs": []
    },
    {
      "cell_type": "markdown",
      "metadata": {
        "id": "cKq6HB7fgL12"
      },
      "source": [
        "If you have seen the video then Krish must have told you to use sklearn library to calculate variance threshold. But we will use var function to calculate our variance so that you understand the concept from base. "
      ]
    },
    {
      "cell_type": "code",
      "metadata": {
        "colab": {
          "base_uri": "https://localhost:8080/"
        },
        "id": "0qNA5PPsx-HJ",
        "outputId": "b4521c19-6525-41ff-b03d-d8e28fcaccda"
      },
      "source": [
        "diabetes.var(axis=0)\n"
      ],
      "execution_count": 21,
      "outputs": [
        {
          "output_type": "execute_result",
          "data": {
            "text/plain": [
              "Pregnancies                   11.354056\n",
              "Glucose                      929.680350\n",
              "BloodPressure                146.321591\n",
              "SkinThickness                 77.285567\n",
              "Insulin                     9484.259268\n",
              "BMI                           48.813618\n",
              "DiabetesPedigreeFunction       0.109779\n",
              "Age                          138.303046\n",
              "Outcome                        0.227483\n",
              "dtype: float64"
            ]
          },
          "metadata": {
            "tags": []
          },
          "execution_count": 21
        }
      ]
    },
    {
      "cell_type": "code",
      "metadata": {
        "id": "miVUdJmugL12",
        "outputId": "40984b60-169e-4078-8118-1081ae77063f"
      },
      "source": [
        "# Return  the variance for X along the specified axis=0.\n",
        "diabetes.var(axis=0)\n",
        "\n",
        "# axis = 0 implies that we are looking for variance along the columns"
      ],
      "execution_count": null,
      "outputs": [
        {
          "output_type": "execute_result",
          "data": {
            "text/plain": [
              "Pregnancies                   11.354056\n",
              "Glucose                      929.680350\n",
              "BloodPressure                146.321591\n",
              "SkinThickness                 77.285567\n",
              "Insulin                     9484.259268\n",
              "BMI                           48.813618\n",
              "DiabetesPedigreeFunction       0.109779\n",
              "Age                          138.303046\n",
              "dtype: float64"
            ]
          },
          "metadata": {
            "tags": []
          },
          "execution_count": 199
        }
      ]
    },
    {
      "cell_type": "markdown",
      "metadata": {
        "id": "byp4aU1fgL13"
      },
      "source": [
        "    Hey smarty! did you see that DiabetesPedigreeFunction variance is less so it brings almost no information because it is (almost) constant , this can be a justification to remove DiabetesPedigreeFunction column but before considering this we should scale these features because they are of different scales.\n",
        "    \n",
        "Reference for minmax scaling: https://scikit-learn.org/stable/modules/generated/sklearn.preprocessing.MinMaxScaler.html\n",
        "\n",
        "Lets use sklearn minmax scaler here.\n"
      ]
    },
    {
      "cell_type": "code",
      "metadata": {
        "id": "Cou7uHyJgL13"
      },
      "source": [
        "# import minmax_scale\n",
        "from sklearn.preprocessing import MinMaxScaler\n",
        "# use minmax scale with feature_range=(0,10) and columns=X.columns,to scale the features of dataframe and store them into X_scaled_df \n",
        "scaler = MinMaxScaler(feature_range= (0,10))\n",
        "X_scaled_df = pd.DataFrame(scaler.fit_transform(diabetes[x]), columns = x)\n"
      ],
      "execution_count": null,
      "outputs": []
    },
    {
      "cell_type": "markdown",
      "metadata": {
        "id": "qfrjj9-LgL13"
      },
      "source": [
        "\n",
        "Wait a minute! whats minmax scaling?\n",
        "\n",
        "It is the simplest method and consists in rescaling the range of features to scale the range in [0, 1] or [−1, 1]\n",
        "\n",
        "hey hey heyieeee! Fun fact time:\n",
        "\n",
        "There is another scaling method called StandardScaler which follows Standard Normal Distribution (SND). Therefore, it makes mean = 0 and scales the data to unit variance. \n",
        "\n",
        "Cool right? :)"
      ]
    },
    {
      "cell_type": "code",
      "metadata": {
        "id": "jUKjPbuAgL14",
        "colab": {
          "base_uri": "https://localhost:8080/",
          "height": 419
        },
        "outputId": "8926f1c5-2dff-4f58-db7a-d905beae27bd"
      },
      "source": [
        "# return X_scaled_df\n",
        "X_scaled_df"
      ],
      "execution_count": 47,
      "outputs": [
        {
          "output_type": "execute_result",
          "data": {
            "text/html": [
              "<div>\n",
              "<style scoped>\n",
              "    .dataframe tbody tr th:only-of-type {\n",
              "        vertical-align: middle;\n",
              "    }\n",
              "\n",
              "    .dataframe tbody tr th {\n",
              "        vertical-align: top;\n",
              "    }\n",
              "\n",
              "    .dataframe thead th {\n",
              "        text-align: right;\n",
              "    }\n",
              "</style>\n",
              "<table border=\"1\" class=\"dataframe\">\n",
              "  <thead>\n",
              "    <tr style=\"text-align: right;\">\n",
              "      <th></th>\n",
              "      <th>Pregnancies</th>\n",
              "      <th>Glucose</th>\n",
              "      <th>BloodPressure</th>\n",
              "      <th>SkinThickness</th>\n",
              "      <th>Insulin</th>\n",
              "      <th>BMI</th>\n",
              "      <th>DiabetesPedigreeFunction</th>\n",
              "      <th>Age</th>\n",
              "    </tr>\n",
              "  </thead>\n",
              "  <tbody>\n",
              "    <tr>\n",
              "      <th>0</th>\n",
              "      <td>3.529412</td>\n",
              "      <td>6.709677</td>\n",
              "      <td>4.897959</td>\n",
              "      <td>3.043478</td>\n",
              "      <td>2.740295</td>\n",
              "      <td>3.149284</td>\n",
              "      <td>2.344150</td>\n",
              "      <td>4.833333</td>\n",
              "    </tr>\n",
              "    <tr>\n",
              "      <th>1</th>\n",
              "      <td>0.588235</td>\n",
              "      <td>2.645161</td>\n",
              "      <td>4.285714</td>\n",
              "      <td>2.391304</td>\n",
              "      <td>1.018185</td>\n",
              "      <td>1.717791</td>\n",
              "      <td>1.165670</td>\n",
              "      <td>1.666667</td>\n",
              "    </tr>\n",
              "    <tr>\n",
              "      <th>2</th>\n",
              "      <td>4.705882</td>\n",
              "      <td>8.967742</td>\n",
              "      <td>4.081633</td>\n",
              "      <td>2.391304</td>\n",
              "      <td>3.331099</td>\n",
              "      <td>1.042945</td>\n",
              "      <td>2.536294</td>\n",
              "      <td>1.833333</td>\n",
              "    </tr>\n",
              "    <tr>\n",
              "      <th>3</th>\n",
              "      <td>0.588235</td>\n",
              "      <td>2.903226</td>\n",
              "      <td>4.285714</td>\n",
              "      <td>1.739130</td>\n",
              "      <td>1.293850</td>\n",
              "      <td>2.024540</td>\n",
              "      <td>0.380017</td>\n",
              "      <td>0.000000</td>\n",
              "    </tr>\n",
              "    <tr>\n",
              "      <th>4</th>\n",
              "      <td>0.000000</td>\n",
              "      <td>6.000000</td>\n",
              "      <td>1.632653</td>\n",
              "      <td>3.043478</td>\n",
              "      <td>2.150572</td>\n",
              "      <td>5.092025</td>\n",
              "      <td>9.436379</td>\n",
              "      <td>2.000000</td>\n",
              "    </tr>\n",
              "    <tr>\n",
              "      <th>...</th>\n",
              "      <td>...</td>\n",
              "      <td>...</td>\n",
              "      <td>...</td>\n",
              "      <td>...</td>\n",
              "      <td>...</td>\n",
              "      <td>...</td>\n",
              "      <td>...</td>\n",
              "      <td>...</td>\n",
              "    </tr>\n",
              "    <tr>\n",
              "      <th>763</th>\n",
              "      <td>5.882353</td>\n",
              "      <td>3.677419</td>\n",
              "      <td>5.306122</td>\n",
              "      <td>4.456522</td>\n",
              "      <td>2.289500</td>\n",
              "      <td>3.006135</td>\n",
              "      <td>0.397096</td>\n",
              "      <td>7.000000</td>\n",
              "    </tr>\n",
              "    <tr>\n",
              "      <th>764</th>\n",
              "      <td>1.176471</td>\n",
              "      <td>5.032258</td>\n",
              "      <td>4.693878</td>\n",
              "      <td>2.173913</td>\n",
              "      <td>2.044244</td>\n",
              "      <td>3.803681</td>\n",
              "      <td>1.118702</td>\n",
              "      <td>1.000000</td>\n",
              "    </tr>\n",
              "    <tr>\n",
              "      <th>765</th>\n",
              "      <td>2.941176</td>\n",
              "      <td>4.967742</td>\n",
              "      <td>4.897959</td>\n",
              "      <td>1.739130</td>\n",
              "      <td>1.502241</td>\n",
              "      <td>1.635992</td>\n",
              "      <td>0.713066</td>\n",
              "      <td>1.500000</td>\n",
              "    </tr>\n",
              "    <tr>\n",
              "      <th>766</th>\n",
              "      <td>0.588235</td>\n",
              "      <td>5.290323</td>\n",
              "      <td>3.673469</td>\n",
              "      <td>2.391304</td>\n",
              "      <td>2.217956</td>\n",
              "      <td>2.433538</td>\n",
              "      <td>1.157131</td>\n",
              "      <td>4.333333</td>\n",
              "    </tr>\n",
              "    <tr>\n",
              "      <th>767</th>\n",
              "      <td>0.588235</td>\n",
              "      <td>3.161290</td>\n",
              "      <td>4.693878</td>\n",
              "      <td>2.608696</td>\n",
              "      <td>1.215086</td>\n",
              "      <td>2.494888</td>\n",
              "      <td>1.011956</td>\n",
              "      <td>0.333333</td>\n",
              "    </tr>\n",
              "  </tbody>\n",
              "</table>\n",
              "<p>768 rows × 8 columns</p>\n",
              "</div>"
            ],
            "text/plain": [
              "     Pregnancies   Glucose  ...  DiabetesPedigreeFunction       Age\n",
              "0       3.529412  6.709677  ...                  2.344150  4.833333\n",
              "1       0.588235  2.645161  ...                  1.165670  1.666667\n",
              "2       4.705882  8.967742  ...                  2.536294  1.833333\n",
              "3       0.588235  2.903226  ...                  0.380017  0.000000\n",
              "4       0.000000  6.000000  ...                  9.436379  2.000000\n",
              "..           ...       ...  ...                       ...       ...\n",
              "763     5.882353  3.677419  ...                  0.397096  7.000000\n",
              "764     1.176471  5.032258  ...                  1.118702  1.000000\n",
              "765     2.941176  4.967742  ...                  0.713066  1.500000\n",
              "766     0.588235  5.290323  ...                  1.157131  4.333333\n",
              "767     0.588235  3.161290  ...                  1.011956  0.333333\n",
              "\n",
              "[768 rows x 8 columns]"
            ]
          },
          "metadata": {
            "tags": []
          },
          "execution_count": 47
        }
      ]
    },
    {
      "cell_type": "code",
      "metadata": {
        "id": "4hD_CaFcgL15",
        "outputId": "59401072-4399-439c-e88a-fb9492547a52"
      },
      "source": [
        "# Again return  the variance for X along the specified axis=0 to check the scales after using minmax scaler.\n",
        "X_scaled_df.var(axis=0)"
      ],
      "execution_count": null,
      "outputs": [
        {
          "output_type": "execute_result",
          "data": {
            "text/plain": [
              "Pregnancies                 3.928739\n",
              "Glucose                     3.869637\n",
              "BloodPressure               1.523548\n",
              "SkinThickness               0.913109\n",
              "Insulin                     1.271218\n",
              "BMI                         2.041377\n",
              "DiabetesPedigreeFunction    2.001447\n",
              "Age                         3.841751\n",
              "dtype: float64"
            ]
          },
          "metadata": {
            "tags": []
          },
          "execution_count": 203
        }
      ]
    },
    {
      "cell_type": "markdown",
      "metadata": {
        "id": "NYNn2n5ggL15"
      },
      "source": [
        "Now again you can check the previous video:https://www.youtube.com/watch?v=uMlU2JaiOd8"
      ]
    },
    {
      "cell_type": "code",
      "metadata": {
        "id": "eEHFlhEpgL16"
      },
      "source": [
        "# import variancethreshold\n",
        "\n",
        "# set threshold=1 and define it to variable select_features\n"
      ],
      "execution_count": null,
      "outputs": []
    },
    {
      "cell_type": "markdown",
      "metadata": {
        "id": "mPKvqEOQgL16"
      },
      "source": [
        "   Impliment fit_transform on select_features passing X_scaled_df into it and save this result in variable X_variance_threshold_df\n"
      ]
    },
    {
      "cell_type": "code",
      "metadata": {
        "id": "Mpe7abpcgL16"
      },
      "source": [
        "X_variance_threshold_df=#code\n"
      ],
      "execution_count": null,
      "outputs": []
    },
    {
      "cell_type": "markdown",
      "metadata": {
        "id": "d9m60v7GgL17"
      },
      "source": [
        "Were you thinking of fit_transform? We are here to help you understand\n",
        "\n",
        "fit_transform() is used on the training data so that we can scale the training data and also learn the scaling parameters of that data. Here, the model built by us will learn the mean and variance of the features of the training set. These learned parameters are then used to scale our test data\n",
        "\n",
        "Don't worry you will get lot of challenges to use these things in our other assignments"
      ]
    },
    {
      "cell_type": "code",
      "metadata": {
        "id": "lZt2ELSngL17",
        "outputId": "b5c78647-4382-45f3-e363-4f4e482225c4"
      },
      "source": [
        "#print X_variance_threshold_df\n"
      ],
      "execution_count": null,
      "outputs": [
        {
          "output_type": "execute_result",
          "data": {
            "text/plain": [
              "array([[3.52941176, 6.70967742, 4.89795918, ..., 3.14928425, 2.3441503 ,\n",
              "        4.83333333],\n",
              "       [0.58823529, 2.64516129, 4.28571429, ..., 1.71779141, 1.16567037,\n",
              "        1.66666667],\n",
              "       [4.70588235, 8.96774194, 4.08163265, ..., 1.04294479, 2.53629377,\n",
              "        1.83333333],\n",
              "       ...,\n",
              "       [2.94117647, 4.96774194, 4.89795918, ..., 1.63599182, 0.71306576,\n",
              "        1.5       ],\n",
              "       [0.58823529, 5.29032258, 3.67346939, ..., 2.43353783, 1.15713066,\n",
              "        4.33333333],\n",
              "       [0.58823529, 3.16129032, 4.69387755, ..., 2.49488753, 1.01195559,\n",
              "        0.33333333]])"
            ]
          },
          "metadata": {
            "tags": []
          },
          "execution_count": 207
        }
      ]
    },
    {
      "cell_type": "code",
      "metadata": {
        "id": "VJRj2KY7gL17"
      },
      "source": [
        "#Convert X_variance_threshold_df into dataframe\n"
      ],
      "execution_count": null,
      "outputs": []
    },
    {
      "cell_type": "code",
      "metadata": {
        "id": "vwH2Mly-gL18",
        "outputId": "9a50736d-7ab8-4cc7-c87b-812b1208ea7b"
      },
      "source": [
        "# print of head values of X_variance_threshold_df \n"
      ],
      "execution_count": null,
      "outputs": [
        {
          "output_type": "execute_result",
          "data": {
            "text/html": [
              "<div>\n",
              "<style scoped>\n",
              "    .dataframe tbody tr th:only-of-type {\n",
              "        vertical-align: middle;\n",
              "    }\n",
              "\n",
              "    .dataframe tbody tr th {\n",
              "        vertical-align: top;\n",
              "    }\n",
              "\n",
              "    .dataframe thead th {\n",
              "        text-align: right;\n",
              "    }\n",
              "</style>\n",
              "<table border=\"1\" class=\"dataframe\">\n",
              "  <thead>\n",
              "    <tr style=\"text-align: right;\">\n",
              "      <th></th>\n",
              "      <th>0</th>\n",
              "      <th>1</th>\n",
              "      <th>2</th>\n",
              "      <th>3</th>\n",
              "      <th>4</th>\n",
              "      <th>5</th>\n",
              "      <th>6</th>\n",
              "    </tr>\n",
              "  </thead>\n",
              "  <tbody>\n",
              "    <tr>\n",
              "      <th>0</th>\n",
              "      <td>3.529412</td>\n",
              "      <td>6.709677</td>\n",
              "      <td>4.897959</td>\n",
              "      <td>2.740295</td>\n",
              "      <td>3.149284</td>\n",
              "      <td>2.344150</td>\n",
              "      <td>4.833333</td>\n",
              "    </tr>\n",
              "    <tr>\n",
              "      <th>1</th>\n",
              "      <td>0.588235</td>\n",
              "      <td>2.645161</td>\n",
              "      <td>4.285714</td>\n",
              "      <td>1.018185</td>\n",
              "      <td>1.717791</td>\n",
              "      <td>1.165670</td>\n",
              "      <td>1.666667</td>\n",
              "    </tr>\n",
              "    <tr>\n",
              "      <th>2</th>\n",
              "      <td>4.705882</td>\n",
              "      <td>8.967742</td>\n",
              "      <td>4.081633</td>\n",
              "      <td>3.331099</td>\n",
              "      <td>1.042945</td>\n",
              "      <td>2.536294</td>\n",
              "      <td>1.833333</td>\n",
              "    </tr>\n",
              "    <tr>\n",
              "      <th>3</th>\n",
              "      <td>0.588235</td>\n",
              "      <td>2.903226</td>\n",
              "      <td>4.285714</td>\n",
              "      <td>1.293850</td>\n",
              "      <td>2.024540</td>\n",
              "      <td>0.380017</td>\n",
              "      <td>0.000000</td>\n",
              "    </tr>\n",
              "    <tr>\n",
              "      <th>4</th>\n",
              "      <td>0.000000</td>\n",
              "      <td>6.000000</td>\n",
              "      <td>1.632653</td>\n",
              "      <td>2.150572</td>\n",
              "      <td>5.092025</td>\n",
              "      <td>9.436379</td>\n",
              "      <td>2.000000</td>\n",
              "    </tr>\n",
              "  </tbody>\n",
              "</table>\n",
              "</div>"
            ],
            "text/plain": [
              "          0         1         2         3         4         5         6\n",
              "0  3.529412  6.709677  4.897959  2.740295  3.149284  2.344150  4.833333\n",
              "1  0.588235  2.645161  4.285714  1.018185  1.717791  1.165670  1.666667\n",
              "2  4.705882  8.967742  4.081633  3.331099  1.042945  2.536294  1.833333\n",
              "3  0.588235  2.903226  4.285714  1.293850  2.024540  0.380017  0.000000\n",
              "4  0.000000  6.000000  1.632653  2.150572  5.092025  9.436379  2.000000"
            ]
          },
          "metadata": {
            "tags": []
          },
          "execution_count": 209
        }
      ]
    },
    {
      "cell_type": "markdown",
      "metadata": {
        "id": "5GEKmG-mgL18"
      },
      "source": [
        "Below mentioned is the function get_selected_features for returning selected_features to be used further.\n",
        "\n",
        "Warning ;)\n",
        "If we have provided you a readymade function, don't just use it but understand it too."
      ]
    },
    {
      "cell_type": "code",
      "metadata": {
        "id": "NoqwDjxJgL19"
      },
      "source": [
        "def get_selected_features(raw_df,processed_df):\n",
        "    selected_features=[]\n",
        "    for i in range(len(processed_df.columns)):\n",
        "        for j in range(len(raw_df.columns)):\n",
        "            if (processed_df.iloc[:,i].equals(raw_df.iloc[:,j])):\n",
        "                selected_features.append(raw_df.columns[j])\n",
        "    return selected_features"
      ],
      "execution_count": null,
      "outputs": []
    },
    {
      "cell_type": "code",
      "metadata": {
        "id": "AjOCeLOVgL19",
        "outputId": "280a9b20-2eb9-42ee-d87d-1ec5e5f3e6d9"
      },
      "source": [
        "# pass the X_scaled_df as raw_df and X_variance_threshold_df as processed_df inside get_selected_features function\n",
        "selected_features= # code\n",
        "\n",
        "# print selected_features\n"
      ],
      "execution_count": null,
      "outputs": [
        {
          "output_type": "execute_result",
          "data": {
            "text/plain": [
              "['Pregnancies',\n",
              " 'Glucose',\n",
              " 'BloodPressure',\n",
              " 'Insulin',\n",
              " 'BMI',\n",
              " 'DiabetesPedigreeFunction',\n",
              " 'Age']"
            ]
          },
          "metadata": {
            "tags": []
          },
          "execution_count": 211
        }
      ]
    },
    {
      "cell_type": "markdown",
      "metadata": {
        "id": "CKcxYEongL19"
      },
      "source": [
        "Super! you can see SkinThickness feature is not selected as its variance is less.\n",
        "\n",
        "Lets give column names to our X_variance_threshold_df"
      ]
    },
    {
      "cell_type": "code",
      "metadata": {
        "id": "kMfHVddPgL1-",
        "outputId": "e680c7d4-2fde-4ee7-bf89-b1942b1a79be"
      },
      "source": [
        "# define selected_features as columns and save it in variabe named X_variance_threshold_df\n",
        "\n",
        "#print X_variance_threshold_df\n"
      ],
      "execution_count": null,
      "outputs": [
        {
          "output_type": "execute_result",
          "data": {
            "text/html": [
              "<div>\n",
              "<style scoped>\n",
              "    .dataframe tbody tr th:only-of-type {\n",
              "        vertical-align: middle;\n",
              "    }\n",
              "\n",
              "    .dataframe tbody tr th {\n",
              "        vertical-align: top;\n",
              "    }\n",
              "\n",
              "    .dataframe thead th {\n",
              "        text-align: right;\n",
              "    }\n",
              "</style>\n",
              "<table border=\"1\" class=\"dataframe\">\n",
              "  <thead>\n",
              "    <tr style=\"text-align: right;\">\n",
              "      <th></th>\n",
              "      <th>Pregnancies</th>\n",
              "      <th>Glucose</th>\n",
              "      <th>BloodPressure</th>\n",
              "      <th>Insulin</th>\n",
              "      <th>BMI</th>\n",
              "      <th>DiabetesPedigreeFunction</th>\n",
              "      <th>Age</th>\n",
              "    </tr>\n",
              "  </thead>\n",
              "  <tbody>\n",
              "    <tr>\n",
              "      <th>0</th>\n",
              "      <td>3.529412</td>\n",
              "      <td>6.709677</td>\n",
              "      <td>4.897959</td>\n",
              "      <td>2.740295</td>\n",
              "      <td>3.149284</td>\n",
              "      <td>2.344150</td>\n",
              "      <td>4.833333</td>\n",
              "    </tr>\n",
              "    <tr>\n",
              "      <th>1</th>\n",
              "      <td>0.588235</td>\n",
              "      <td>2.645161</td>\n",
              "      <td>4.285714</td>\n",
              "      <td>1.018185</td>\n",
              "      <td>1.717791</td>\n",
              "      <td>1.165670</td>\n",
              "      <td>1.666667</td>\n",
              "    </tr>\n",
              "    <tr>\n",
              "      <th>2</th>\n",
              "      <td>4.705882</td>\n",
              "      <td>8.967742</td>\n",
              "      <td>4.081633</td>\n",
              "      <td>3.331099</td>\n",
              "      <td>1.042945</td>\n",
              "      <td>2.536294</td>\n",
              "      <td>1.833333</td>\n",
              "    </tr>\n",
              "    <tr>\n",
              "      <th>3</th>\n",
              "      <td>0.588235</td>\n",
              "      <td>2.903226</td>\n",
              "      <td>4.285714</td>\n",
              "      <td>1.293850</td>\n",
              "      <td>2.024540</td>\n",
              "      <td>0.380017</td>\n",
              "      <td>0.000000</td>\n",
              "    </tr>\n",
              "    <tr>\n",
              "      <th>4</th>\n",
              "      <td>0.000000</td>\n",
              "      <td>6.000000</td>\n",
              "      <td>1.632653</td>\n",
              "      <td>2.150572</td>\n",
              "      <td>5.092025</td>\n",
              "      <td>9.436379</td>\n",
              "      <td>2.000000</td>\n",
              "    </tr>\n",
              "    <tr>\n",
              "      <th>...</th>\n",
              "      <td>...</td>\n",
              "      <td>...</td>\n",
              "      <td>...</td>\n",
              "      <td>...</td>\n",
              "      <td>...</td>\n",
              "      <td>...</td>\n",
              "      <td>...</td>\n",
              "    </tr>\n",
              "    <tr>\n",
              "      <th>763</th>\n",
              "      <td>5.882353</td>\n",
              "      <td>3.677419</td>\n",
              "      <td>5.306122</td>\n",
              "      <td>2.289500</td>\n",
              "      <td>3.006135</td>\n",
              "      <td>0.397096</td>\n",
              "      <td>7.000000</td>\n",
              "    </tr>\n",
              "    <tr>\n",
              "      <th>764</th>\n",
              "      <td>1.176471</td>\n",
              "      <td>5.032258</td>\n",
              "      <td>4.693878</td>\n",
              "      <td>2.044244</td>\n",
              "      <td>3.803681</td>\n",
              "      <td>1.118702</td>\n",
              "      <td>1.000000</td>\n",
              "    </tr>\n",
              "    <tr>\n",
              "      <th>765</th>\n",
              "      <td>2.941176</td>\n",
              "      <td>4.967742</td>\n",
              "      <td>4.897959</td>\n",
              "      <td>1.502241</td>\n",
              "      <td>1.635992</td>\n",
              "      <td>0.713066</td>\n",
              "      <td>1.500000</td>\n",
              "    </tr>\n",
              "    <tr>\n",
              "      <th>766</th>\n",
              "      <td>0.588235</td>\n",
              "      <td>5.290323</td>\n",
              "      <td>3.673469</td>\n",
              "      <td>2.217956</td>\n",
              "      <td>2.433538</td>\n",
              "      <td>1.157131</td>\n",
              "      <td>4.333333</td>\n",
              "    </tr>\n",
              "    <tr>\n",
              "      <th>767</th>\n",
              "      <td>0.588235</td>\n",
              "      <td>3.161290</td>\n",
              "      <td>4.693878</td>\n",
              "      <td>1.215086</td>\n",
              "      <td>2.494888</td>\n",
              "      <td>1.011956</td>\n",
              "      <td>0.333333</td>\n",
              "    </tr>\n",
              "  </tbody>\n",
              "</table>\n",
              "<p>768 rows × 7 columns</p>\n",
              "</div>"
            ],
            "text/plain": [
              "     Pregnancies   Glucose  BloodPressure   Insulin       BMI  \\\n",
              "0       3.529412  6.709677       4.897959  2.740295  3.149284   \n",
              "1       0.588235  2.645161       4.285714  1.018185  1.717791   \n",
              "2       4.705882  8.967742       4.081633  3.331099  1.042945   \n",
              "3       0.588235  2.903226       4.285714  1.293850  2.024540   \n",
              "4       0.000000  6.000000       1.632653  2.150572  5.092025   \n",
              "..           ...       ...            ...       ...       ...   \n",
              "763     5.882353  3.677419       5.306122  2.289500  3.006135   \n",
              "764     1.176471  5.032258       4.693878  2.044244  3.803681   \n",
              "765     2.941176  4.967742       4.897959  1.502241  1.635992   \n",
              "766     0.588235  5.290323       3.673469  2.217956  2.433538   \n",
              "767     0.588235  3.161290       4.693878  1.215086  2.494888   \n",
              "\n",
              "     DiabetesPedigreeFunction       Age  \n",
              "0                    2.344150  4.833333  \n",
              "1                    1.165670  1.666667  \n",
              "2                    2.536294  1.833333  \n",
              "3                    0.380017  0.000000  \n",
              "4                    9.436379  2.000000  \n",
              "..                        ...       ...  \n",
              "763                  0.397096  7.000000  \n",
              "764                  1.118702  1.000000  \n",
              "765                  0.713066  1.500000  \n",
              "766                  1.157131  4.333333  \n",
              "767                  1.011956  0.333333  \n",
              "\n",
              "[768 rows x 7 columns]"
            ]
          },
          "metadata": {
            "tags": []
          },
          "execution_count": 212
        }
      ]
    },
    {
      "cell_type": "markdown",
      "metadata": {
        "id": "vLCX3CZ-gL1-"
      },
      "source": [
        "## (c) Chi-Squared statistical test (SelectKBest)\n",
        "\n",
        "<p style='text-align: right;'> 20 points</p>\n",
        "\n",
        "Chi2 is a measure of dependency between two variables. It gives us a goodness of fit measure because it measures how well an observed distribution of a particular feature fits with the distribution that is expected if two features are independent.\n",
        "\n",
        "Scikit-Learn offers a feature selection estimator named SelectKBest which select K numbers of features based on the statistical analysis.\n",
        "\n",
        "Reference link: https://chrisalbon.com/machine_learning/feature_selection/chi-squared_for_feature_selection/"
      ]
    },
    {
      "cell_type": "markdown",
      "metadata": {
        "id": "PTy0d6ongL1_"
      },
      "source": [
        "The below mentioned function generate_feature_scores_df is used to get feature score for using it in  Chi-Squared statistical test explained below"
      ]
    },
    {
      "cell_type": "code",
      "metadata": {
        "id": "gj6r2BJZgL1_"
      },
      "source": [
        "def generate_feature_scores_df(X,Score):\n",
        "    feature_score=pd.DataFrame()\n",
        "    for i in range(X.shape[1]):\n",
        "        new =pd.DataFrame({\"Features\":X.columns[i],\"Score\":Score[i]},index=[i])\n",
        "        feature_score=pd.concat([feature_score,new])\n",
        "    return feature_score"
      ],
      "execution_count": null,
      "outputs": []
    },
    {
      "cell_type": "markdown",
      "metadata": {
        "id": "N6uljvkYgL1_"
      },
      "source": [
        "Hey coder! lets use dataset - diabetes.csv from below link\n",
        "\n",
        "https://github.com/arupbhunia/Data-Pre-processing/blob/master/datasets/diabetes.csv"
      ]
    },
    {
      "cell_type": "code",
      "metadata": {
        "id": "LUPSej_ygL2A"
      },
      "source": [
        "# create a data frame named diabetes and load the csv file again\n"
      ],
      "execution_count": null,
      "outputs": []
    },
    {
      "cell_type": "code",
      "metadata": {
        "id": "fqFZvv4ZgL2A"
      },
      "source": [
        "# assign features to X variable and 'outcome' to y variable from the dataframe diabetes\n",
        "\n"
      ],
      "execution_count": null,
      "outputs": []
    },
    {
      "cell_type": "code",
      "metadata": {
        "id": "JLPNq2oCgL2B"
      },
      "source": [
        "#import chi2 and SelectKBest\n",
        "\n"
      ],
      "execution_count": null,
      "outputs": []
    },
    {
      "cell_type": "code",
      "metadata": {
        "id": "baEk96ZggL2B"
      },
      "source": [
        "# converting data cast to a float type.\n"
      ],
      "execution_count": null,
      "outputs": []
    },
    {
      "cell_type": "markdown",
      "metadata": {
        "id": "4wUYgl6ogL2B"
      },
      "source": [
        "Lets use SelectKBest to calculate the best feature score. Use Chi2 as Score Function and no.of feature i.e. k as 4\n"
      ]
    },
    {
      "cell_type": "code",
      "metadata": {
        "id": "4GHWfntsgL2C"
      },
      "source": [
        "# Initialise SelectKBest with above parameters \n",
        "chi2_test=#\n",
        "\n",
        "# fit it with X and Y\n",
        "chi2_model=#\n",
        "\n"
      ],
      "execution_count": null,
      "outputs": []
    },
    {
      "cell_type": "code",
      "metadata": {
        "id": "FZI861MngL2C",
        "outputId": "64be5714-cb27-4a6b-b65c-01389b3c77d4"
      },
      "source": [
        "#print the scores of chi2_model\n"
      ],
      "execution_count": null,
      "outputs": [
        {
          "output_type": "execute_result",
          "data": {
            "text/plain": [
              "array([ 111.51969064, 1411.88704064,   17.60537322,   53.10803984,\n",
              "       2175.56527292,  127.66934333,    5.39268155,  181.30368904])"
            ]
          },
          "metadata": {
            "tags": []
          },
          "execution_count": 219
        }
      ]
    },
    {
      "cell_type": "code",
      "metadata": {
        "id": "NE14imOEgL2C",
        "outputId": "bead2b4d-f55c-489b-ee5d-ba7ce62205cb"
      },
      "source": [
        "# use generate_feature_scores_df function to get features and their respective scores passing X and chi2_model.scores_ as paramter\n",
        "feature_score_df=#\n",
        "\n",
        "\n",
        "# return feature_score_df\n",
        "\n"
      ],
      "execution_count": null,
      "outputs": [
        {
          "output_type": "execute_result",
          "data": {
            "text/html": [
              "<div>\n",
              "<style scoped>\n",
              "    .dataframe tbody tr th:only-of-type {\n",
              "        vertical-align: middle;\n",
              "    }\n",
              "\n",
              "    .dataframe tbody tr th {\n",
              "        vertical-align: top;\n",
              "    }\n",
              "\n",
              "    .dataframe thead th {\n",
              "        text-align: right;\n",
              "    }\n",
              "</style>\n",
              "<table border=\"1\" class=\"dataframe\">\n",
              "  <thead>\n",
              "    <tr style=\"text-align: right;\">\n",
              "      <th></th>\n",
              "      <th>Features</th>\n",
              "      <th>Score</th>\n",
              "    </tr>\n",
              "  </thead>\n",
              "  <tbody>\n",
              "    <tr>\n",
              "      <th>0</th>\n",
              "      <td>Pregnancies</td>\n",
              "      <td>111.519691</td>\n",
              "    </tr>\n",
              "    <tr>\n",
              "      <th>1</th>\n",
              "      <td>Glucose</td>\n",
              "      <td>1411.887041</td>\n",
              "    </tr>\n",
              "    <tr>\n",
              "      <th>2</th>\n",
              "      <td>BloodPressure</td>\n",
              "      <td>17.605373</td>\n",
              "    </tr>\n",
              "    <tr>\n",
              "      <th>3</th>\n",
              "      <td>SkinThickness</td>\n",
              "      <td>53.108040</td>\n",
              "    </tr>\n",
              "    <tr>\n",
              "      <th>4</th>\n",
              "      <td>Insulin</td>\n",
              "      <td>2175.565273</td>\n",
              "    </tr>\n",
              "    <tr>\n",
              "      <th>5</th>\n",
              "      <td>BMI</td>\n",
              "      <td>127.669343</td>\n",
              "    </tr>\n",
              "    <tr>\n",
              "      <th>6</th>\n",
              "      <td>DiabetesPedigreeFunction</td>\n",
              "      <td>5.392682</td>\n",
              "    </tr>\n",
              "    <tr>\n",
              "      <th>7</th>\n",
              "      <td>Age</td>\n",
              "      <td>181.303689</td>\n",
              "    </tr>\n",
              "  </tbody>\n",
              "</table>\n",
              "</div>"
            ],
            "text/plain": [
              "                   Features        Score\n",
              "0               Pregnancies   111.519691\n",
              "1                   Glucose  1411.887041\n",
              "2             BloodPressure    17.605373\n",
              "3             SkinThickness    53.108040\n",
              "4                   Insulin  2175.565273\n",
              "5                       BMI   127.669343\n",
              "6  DiabetesPedigreeFunction     5.392682\n",
              "7                       Age   181.303689"
            ]
          },
          "metadata": {
            "tags": []
          },
          "execution_count": 220
        }
      ]
    },
    {
      "cell_type": "markdown",
      "metadata": {
        "id": "DZm733x2gL2D"
      },
      "source": [
        "Did you see the features and corresponding chi square scores? This is so easy right, higher the score better the feature. Just like higher the marks in assignment better the student of ours. "
      ]
    },
    {
      "cell_type": "code",
      "metadata": {
        "id": "WPo6B1cNgL2D"
      },
      "source": [
        "#Lets get X with selected features of chi2_model using tranform function so we will have X_new\n",
        "X_new=#"
      ],
      "execution_count": null,
      "outputs": []
    },
    {
      "cell_type": "markdown",
      "metadata": {
        "id": "E8E39i5rgL2D"
      },
      "source": [
        "whaaaat! tranform()? , how is it different from fit_transform.You know buddy fit() can also confuse you. Hey you inquisitive learner we will tell you the difference.\n",
        "\n",
        "The fit() function calculates the values of these parameters. The transform function applies the values of the parameters on the actual data and gives the normalized value. The fit_transform() function performs both in the same step. Note that the same value is got whether we perform in 2 steps or in a single step.\n",
        "\n",
        "for more info on this refer: https://www.youtube.com/watch?v=BotYLBQfd5M"
      ]
    },
    {
      "cell_type": "code",
      "metadata": {
        "id": "y5se7SDPgL2D"
      },
      "source": [
        "# Convert X_new into a dataframe\n",
        "\n",
        "X_new=#"
      ],
      "execution_count": null,
      "outputs": []
    },
    {
      "cell_type": "code",
      "metadata": {
        "id": "EFuyw0gEgL2E",
        "outputId": "6eddd6e9-020e-4461-c801-190064574407"
      },
      "source": [
        "#repeat the previous steps of calling get_selected_features function( pass X and X_new as score in the function)\n",
        "selected_features=#\n",
        "\n",
        "# return selected_features\n"
      ],
      "execution_count": null,
      "outputs": [
        {
          "output_type": "execute_result",
          "data": {
            "text/plain": [
              "['Glucose', 'Insulin', 'BMI', 'Age']"
            ]
          },
          "metadata": {
            "tags": []
          },
          "execution_count": 224
        }
      ]
    },
    {
      "cell_type": "markdown",
      "metadata": {
        "id": "Vs7WLKfVgL2E"
      },
      "source": [
        "Let have X with all features given in list selected_features and save this dataframe in variable chi2_best_features"
      ]
    },
    {
      "cell_type": "code",
      "metadata": {
        "id": "e0qbPed3gL2E",
        "outputId": "a2866324-2963-493a-c19f-d057702757a2"
      },
      "source": [
        "\n",
        "\n",
        "# print chi2_best_features.head()\n"
      ],
      "execution_count": null,
      "outputs": [
        {
          "output_type": "execute_result",
          "data": {
            "text/html": [
              "<div>\n",
              "<style scoped>\n",
              "    .dataframe tbody tr th:only-of-type {\n",
              "        vertical-align: middle;\n",
              "    }\n",
              "\n",
              "    .dataframe tbody tr th {\n",
              "        vertical-align: top;\n",
              "    }\n",
              "\n",
              "    .dataframe thead th {\n",
              "        text-align: right;\n",
              "    }\n",
              "</style>\n",
              "<table border=\"1\" class=\"dataframe\">\n",
              "  <thead>\n",
              "    <tr style=\"text-align: right;\">\n",
              "      <th></th>\n",
              "      <th>Glucose</th>\n",
              "      <th>Insulin</th>\n",
              "      <th>BMI</th>\n",
              "      <th>Age</th>\n",
              "    </tr>\n",
              "  </thead>\n",
              "  <tbody>\n",
              "    <tr>\n",
              "      <th>0</th>\n",
              "      <td>148.0</td>\n",
              "      <td>0.0</td>\n",
              "      <td>33.6</td>\n",
              "      <td>50.0</td>\n",
              "    </tr>\n",
              "    <tr>\n",
              "      <th>1</th>\n",
              "      <td>85.0</td>\n",
              "      <td>0.0</td>\n",
              "      <td>26.6</td>\n",
              "      <td>31.0</td>\n",
              "    </tr>\n",
              "    <tr>\n",
              "      <th>2</th>\n",
              "      <td>183.0</td>\n",
              "      <td>0.0</td>\n",
              "      <td>23.3</td>\n",
              "      <td>32.0</td>\n",
              "    </tr>\n",
              "    <tr>\n",
              "      <th>3</th>\n",
              "      <td>89.0</td>\n",
              "      <td>94.0</td>\n",
              "      <td>28.1</td>\n",
              "      <td>21.0</td>\n",
              "    </tr>\n",
              "    <tr>\n",
              "      <th>4</th>\n",
              "      <td>137.0</td>\n",
              "      <td>168.0</td>\n",
              "      <td>43.1</td>\n",
              "      <td>33.0</td>\n",
              "    </tr>\n",
              "  </tbody>\n",
              "</table>\n",
              "</div>"
            ],
            "text/plain": [
              "   Glucose  Insulin   BMI   Age\n",
              "0    148.0      0.0  33.6  50.0\n",
              "1     85.0      0.0  26.6  31.0\n",
              "2    183.0      0.0  23.3  32.0\n",
              "3     89.0     94.0  28.1  21.0\n",
              "4    137.0    168.0  43.1  33.0"
            ]
          },
          "metadata": {
            "tags": []
          },
          "execution_count": 225
        }
      ]
    },
    {
      "cell_type": "markdown",
      "metadata": {
        "id": "pwDdeooAgL2F"
      },
      "source": [
        "As you can see chi-squared test helps us to select  important independent features out of the original features that have the strongest relationship with the target feature.\n",
        "\n",
        "You did it well!"
      ]
    },
    {
      "cell_type": "markdown",
      "metadata": {
        "id": "LwniJFDYgL2F"
      },
      "source": [
        "## (d) Anova-F Test\n",
        "\n",
        "<p style='text-align: right;'> 20 points</p>\n",
        "\n",
        "The F-value scores examine the varaiance by grouping the numerical feature by the target vector, the means for each group are significantly different."
      ]
    },
    {
      "cell_type": "markdown",
      "metadata": {
        "id": "x8vrQHvZgL2F"
      },
      "source": [
        "References:\n",
        "1. https://www.youtube.com/watch?v=9zrQ_c5RZkI\n"
      ]
    },
    {
      "cell_type": "code",
      "metadata": {
        "id": "qqV5Y_eVgL2F"
      },
      "source": [
        "#import libraries\n",
        "from sklearn.feature_selection import f_classif,SelectPercentile\n",
        "\n",
        "\n",
        "# Initialise SelectPercentile function with parameters f_classif and percentile as 80\n",
        "Anova_test=#\n",
        "\n",
        "\n",
        "\n",
        "#Fit the above object to the features and target i.e X and Y\n",
        "Anova_model=#"
      ],
      "execution_count": null,
      "outputs": []
    },
    {
      "cell_type": "markdown",
      "metadata": {
        "id": "zDWaXVgAgL2G"
      },
      "source": [
        "here you have used f_classif for Anova-F test. To know more about this test you can check this artical.\n",
        "\n",
        "https://towardsdatascience.com/anova-for-feature-selection-in-machine-learning-d9305e228476\n",
        "\n"
      ]
    },
    {
      "cell_type": "code",
      "metadata": {
        "id": "fzwwe3q8gL2G",
        "outputId": "0d2ff602-8ec6-4f4b-9613-b3002dc2b03b"
      },
      "source": [
        "# return scores of anova model\n"
      ],
      "execution_count": null,
      "outputs": [
        {
          "output_type": "execute_result",
          "data": {
            "text/plain": [
              "array([ 39.67022739, 213.16175218,   3.2569504 ,   4.30438091,\n",
              "        13.28110753,  71.7720721 ,  23.8713002 ,  46.14061124])"
            ]
          },
          "metadata": {
            "tags": []
          },
          "execution_count": 227
        }
      ]
    },
    {
      "cell_type": "code",
      "metadata": {
        "id": "20X_VpeWgL2H",
        "outputId": "d55183a2-77d1-4c57-e300-b68d47e11699"
      },
      "source": [
        "# use generate_feature_scores_df function to get features and their respective scores by passing X and Anova_model.scores_ as score in function \n",
        "\n",
        "feature_scores_df=#code\n",
        "\n",
        "# print feature_scores_df"
      ],
      "execution_count": null,
      "outputs": [
        {
          "output_type": "execute_result",
          "data": {
            "text/html": [
              "<div>\n",
              "<style scoped>\n",
              "    .dataframe tbody tr th:only-of-type {\n",
              "        vertical-align: middle;\n",
              "    }\n",
              "\n",
              "    .dataframe tbody tr th {\n",
              "        vertical-align: top;\n",
              "    }\n",
              "\n",
              "    .dataframe thead th {\n",
              "        text-align: right;\n",
              "    }\n",
              "</style>\n",
              "<table border=\"1\" class=\"dataframe\">\n",
              "  <thead>\n",
              "    <tr style=\"text-align: right;\">\n",
              "      <th></th>\n",
              "      <th>Features</th>\n",
              "      <th>Score</th>\n",
              "    </tr>\n",
              "  </thead>\n",
              "  <tbody>\n",
              "    <tr>\n",
              "      <th>0</th>\n",
              "      <td>Pregnancies</td>\n",
              "      <td>39.670227</td>\n",
              "    </tr>\n",
              "    <tr>\n",
              "      <th>1</th>\n",
              "      <td>Glucose</td>\n",
              "      <td>213.161752</td>\n",
              "    </tr>\n",
              "    <tr>\n",
              "      <th>2</th>\n",
              "      <td>BloodPressure</td>\n",
              "      <td>3.256950</td>\n",
              "    </tr>\n",
              "    <tr>\n",
              "      <th>3</th>\n",
              "      <td>SkinThickness</td>\n",
              "      <td>4.304381</td>\n",
              "    </tr>\n",
              "    <tr>\n",
              "      <th>4</th>\n",
              "      <td>Insulin</td>\n",
              "      <td>13.281108</td>\n",
              "    </tr>\n",
              "    <tr>\n",
              "      <th>5</th>\n",
              "      <td>BMI</td>\n",
              "      <td>71.772072</td>\n",
              "    </tr>\n",
              "    <tr>\n",
              "      <th>6</th>\n",
              "      <td>DiabetesPedigreeFunction</td>\n",
              "      <td>23.871300</td>\n",
              "    </tr>\n",
              "    <tr>\n",
              "      <th>7</th>\n",
              "      <td>Age</td>\n",
              "      <td>46.140611</td>\n",
              "    </tr>\n",
              "  </tbody>\n",
              "</table>\n",
              "</div>"
            ],
            "text/plain": [
              "                   Features       Score\n",
              "0               Pregnancies   39.670227\n",
              "1                   Glucose  213.161752\n",
              "2             BloodPressure    3.256950\n",
              "3             SkinThickness    4.304381\n",
              "4                   Insulin   13.281108\n",
              "5                       BMI   71.772072\n",
              "6  DiabetesPedigreeFunction   23.871300\n",
              "7                       Age   46.140611"
            ]
          },
          "metadata": {
            "tags": []
          },
          "execution_count": 228
        }
      ]
    },
    {
      "cell_type": "code",
      "metadata": {
        "id": "AD8smmRngL2H"
      },
      "source": [
        "# Get all supported columns values in Anova_model with indices=True\n",
        "cols = #\n",
        "# Reduce X to the selected features of anova model using tranform \n",
        "\n",
        "X_new = #\n",
        "\n"
      ],
      "execution_count": null,
      "outputs": []
    },
    {
      "cell_type": "code",
      "metadata": {
        "id": "2jVqE8EJgL2I",
        "outputId": "9843b17b-4909-427d-ae1c-bdc157038366"
      },
      "source": [
        "#print X_new.head()\n"
      ],
      "execution_count": null,
      "outputs": [
        {
          "output_type": "execute_result",
          "data": {
            "text/html": [
              "<div>\n",
              "<style scoped>\n",
              "    .dataframe tbody tr th:only-of-type {\n",
              "        vertical-align: middle;\n",
              "    }\n",
              "\n",
              "    .dataframe tbody tr th {\n",
              "        vertical-align: top;\n",
              "    }\n",
              "\n",
              "    .dataframe thead th {\n",
              "        text-align: right;\n",
              "    }\n",
              "</style>\n",
              "<table border=\"1\" class=\"dataframe\">\n",
              "  <thead>\n",
              "    <tr style=\"text-align: right;\">\n",
              "      <th></th>\n",
              "      <th>Pregnancies</th>\n",
              "      <th>Glucose</th>\n",
              "      <th>Insulin</th>\n",
              "      <th>BMI</th>\n",
              "      <th>DiabetesPedigreeFunction</th>\n",
              "      <th>Age</th>\n",
              "    </tr>\n",
              "  </thead>\n",
              "  <tbody>\n",
              "    <tr>\n",
              "      <th>0</th>\n",
              "      <td>6.0</td>\n",
              "      <td>148.0</td>\n",
              "      <td>0.0</td>\n",
              "      <td>33.6</td>\n",
              "      <td>0.627</td>\n",
              "      <td>50.0</td>\n",
              "    </tr>\n",
              "    <tr>\n",
              "      <th>1</th>\n",
              "      <td>1.0</td>\n",
              "      <td>85.0</td>\n",
              "      <td>0.0</td>\n",
              "      <td>26.6</td>\n",
              "      <td>0.351</td>\n",
              "      <td>31.0</td>\n",
              "    </tr>\n",
              "    <tr>\n",
              "      <th>2</th>\n",
              "      <td>8.0</td>\n",
              "      <td>183.0</td>\n",
              "      <td>0.0</td>\n",
              "      <td>23.3</td>\n",
              "      <td>0.672</td>\n",
              "      <td>32.0</td>\n",
              "    </tr>\n",
              "    <tr>\n",
              "      <th>3</th>\n",
              "      <td>1.0</td>\n",
              "      <td>89.0</td>\n",
              "      <td>94.0</td>\n",
              "      <td>28.1</td>\n",
              "      <td>0.167</td>\n",
              "      <td>21.0</td>\n",
              "    </tr>\n",
              "    <tr>\n",
              "      <th>4</th>\n",
              "      <td>0.0</td>\n",
              "      <td>137.0</td>\n",
              "      <td>168.0</td>\n",
              "      <td>43.1</td>\n",
              "      <td>2.288</td>\n",
              "      <td>33.0</td>\n",
              "    </tr>\n",
              "  </tbody>\n",
              "</table>\n",
              "</div>"
            ],
            "text/plain": [
              "   Pregnancies  Glucose  Insulin   BMI  DiabetesPedigreeFunction   Age\n",
              "0          6.0    148.0      0.0  33.6                     0.627  50.0\n",
              "1          1.0     85.0      0.0  26.6                     0.351  31.0\n",
              "2          8.0    183.0      0.0  23.3                     0.672  32.0\n",
              "3          1.0     89.0     94.0  28.1                     0.167  21.0\n",
              "4          0.0    137.0    168.0  43.1                     2.288  33.0"
            ]
          },
          "metadata": {
            "tags": []
          },
          "execution_count": 232
        }
      ]
    },
    {
      "cell_type": "markdown",
      "metadata": {
        "id": "pwtapdRhgL2J"
      },
      "source": [
        "Hey brighty! Hope you learned to implement Anova F-test method for feature selection. It has selected 6 best features as you can see in above output"
      ]
    },
    {
      "cell_type": "markdown",
      "metadata": {
        "id": "H9M9jZbZgL2J"
      },
      "source": [
        "# 2. Wrapper Methods\n",
        "\n",
        "<p style='text-align: right;'> 30 points</p>\n"
      ]
    },
    {
      "cell_type": "markdown",
      "metadata": {
        "id": "sMNqh2NMgL2J"
      },
      "source": [
        "Wrapper methods are used to select a set of features by preparing where different combinations of features, then each combination is evaluated and compared to other combinations.Next a predictive model is used to assign a score based on model accuracy and to evaluate the combinations of these features."
      ]
    },
    {
      "cell_type": "code",
      "metadata": {
        "id": "d8CAoIxagL2K",
        "outputId": "8ad18c1e-7fe0-4c54-f9bd-aaacc6b5e93f"
      },
      "source": [
        "# load and read the diabetes.csv using pandas and print the head values\n",
        "\n"
      ],
      "execution_count": null,
      "outputs": [
        {
          "output_type": "execute_result",
          "data": {
            "text/html": [
              "<div>\n",
              "<style scoped>\n",
              "    .dataframe tbody tr th:only-of-type {\n",
              "        vertical-align: middle;\n",
              "    }\n",
              "\n",
              "    .dataframe tbody tr th {\n",
              "        vertical-align: top;\n",
              "    }\n",
              "\n",
              "    .dataframe thead th {\n",
              "        text-align: right;\n",
              "    }\n",
              "</style>\n",
              "<table border=\"1\" class=\"dataframe\">\n",
              "  <thead>\n",
              "    <tr style=\"text-align: right;\">\n",
              "      <th></th>\n",
              "      <th>Pregnancies</th>\n",
              "      <th>Glucose</th>\n",
              "      <th>BloodPressure</th>\n",
              "      <th>SkinThickness</th>\n",
              "      <th>Insulin</th>\n",
              "      <th>BMI</th>\n",
              "      <th>DiabetesPedigreeFunction</th>\n",
              "      <th>Age</th>\n",
              "      <th>Outcome</th>\n",
              "    </tr>\n",
              "  </thead>\n",
              "  <tbody>\n",
              "    <tr>\n",
              "      <th>0</th>\n",
              "      <td>6</td>\n",
              "      <td>148</td>\n",
              "      <td>72</td>\n",
              "      <td>35</td>\n",
              "      <td>0</td>\n",
              "      <td>33.6</td>\n",
              "      <td>0.627</td>\n",
              "      <td>50</td>\n",
              "      <td>1</td>\n",
              "    </tr>\n",
              "    <tr>\n",
              "      <th>1</th>\n",
              "      <td>1</td>\n",
              "      <td>85</td>\n",
              "      <td>66</td>\n",
              "      <td>29</td>\n",
              "      <td>0</td>\n",
              "      <td>26.6</td>\n",
              "      <td>0.351</td>\n",
              "      <td>31</td>\n",
              "      <td>0</td>\n",
              "    </tr>\n",
              "    <tr>\n",
              "      <th>2</th>\n",
              "      <td>8</td>\n",
              "      <td>183</td>\n",
              "      <td>64</td>\n",
              "      <td>0</td>\n",
              "      <td>0</td>\n",
              "      <td>23.3</td>\n",
              "      <td>0.672</td>\n",
              "      <td>32</td>\n",
              "      <td>1</td>\n",
              "    </tr>\n",
              "    <tr>\n",
              "      <th>3</th>\n",
              "      <td>1</td>\n",
              "      <td>89</td>\n",
              "      <td>66</td>\n",
              "      <td>23</td>\n",
              "      <td>94</td>\n",
              "      <td>28.1</td>\n",
              "      <td>0.167</td>\n",
              "      <td>21</td>\n",
              "      <td>0</td>\n",
              "    </tr>\n",
              "    <tr>\n",
              "      <th>4</th>\n",
              "      <td>0</td>\n",
              "      <td>137</td>\n",
              "      <td>40</td>\n",
              "      <td>35</td>\n",
              "      <td>168</td>\n",
              "      <td>43.1</td>\n",
              "      <td>2.288</td>\n",
              "      <td>33</td>\n",
              "      <td>1</td>\n",
              "    </tr>\n",
              "  </tbody>\n",
              "</table>\n",
              "</div>"
            ],
            "text/plain": [
              "   Pregnancies  Glucose  BloodPressure  SkinThickness  Insulin   BMI  \\\n",
              "0            6      148             72             35        0  33.6   \n",
              "1            1       85             66             29        0  26.6   \n",
              "2            8      183             64              0        0  23.3   \n",
              "3            1       89             66             23       94  28.1   \n",
              "4            0      137             40             35      168  43.1   \n",
              "\n",
              "   DiabetesPedigreeFunction  Age  Outcome  \n",
              "0                     0.627   50        1  \n",
              "1                     0.351   31        0  \n",
              "2                     0.672   32        1  \n",
              "3                     0.167   21        0  \n",
              "4                     2.288   33        1  "
            ]
          },
          "metadata": {
            "tags": []
          },
          "execution_count": 234
        }
      ]
    },
    {
      "cell_type": "code",
      "metadata": {
        "id": "cX1ghdq4gL2K",
        "outputId": "36407ab6-8a57-4329-89d0-19a5a6286b5a"
      },
      "source": [
        "# assign features to X and target 'outcome' to Y variable(Think why the 'outcome' column is taken as the target)\n",
        "X=#\n",
        "Y=#\n",
        "\n",
        "#return X,Y\n",
        "\n"
      ],
      "execution_count": null,
      "outputs": [
        {
          "output_type": "execute_result",
          "data": {
            "text/plain": [
              "(     Pregnancies  Glucose  BloodPressure  SkinThickness  Insulin   BMI  \\\n",
              " 0              6      148             72             35        0  33.6   \n",
              " 1              1       85             66             29        0  26.6   \n",
              " 2              8      183             64              0        0  23.3   \n",
              " 3              1       89             66             23       94  28.1   \n",
              " 4              0      137             40             35      168  43.1   \n",
              " ..           ...      ...            ...            ...      ...   ...   \n",
              " 763           10      101             76             48      180  32.9   \n",
              " 764            2      122             70             27        0  36.8   \n",
              " 765            5      121             72             23      112  26.2   \n",
              " 766            1      126             60              0        0  30.1   \n",
              " 767            1       93             70             31        0  30.4   \n",
              " \n",
              "      DiabetesPedigreeFunction  Age  \n",
              " 0                       0.627   50  \n",
              " 1                       0.351   31  \n",
              " 2                       0.672   32  \n",
              " 3                       0.167   21  \n",
              " 4                       2.288   33  \n",
              " ..                        ...  ...  \n",
              " 763                     0.171   63  \n",
              " 764                     0.340   27  \n",
              " 765                     0.245   30  \n",
              " 766                     0.349   47  \n",
              " 767                     0.315   23  \n",
              " \n",
              " [768 rows x 8 columns],\n",
              " 0      1\n",
              " 1      0\n",
              " 2      1\n",
              " 3      0\n",
              " 4      1\n",
              "       ..\n",
              " 763    0\n",
              " 764    0\n",
              " 765    0\n",
              " 766    1\n",
              " 767    0\n",
              " Name: Outcome, Length: 768, dtype: int64)"
            ]
          },
          "metadata": {
            "tags": []
          },
          "execution_count": 235
        }
      ]
    },
    {
      "cell_type": "markdown",
      "metadata": {
        "id": "BK9lQw0PgL2L"
      },
      "source": [
        "## (a) Recursive Feature Elemination\n",
        "\n",
        "<p style='text-align: right;'> 25 points</p>\n",
        "\n",
        "Recursive Feature Elimination selects features by recursively considering smaller subsets of features by pruning the least important feature at each step. Here models are created iteartively and in each iteration it determines the best and worst performing features and this process continues until all the features are explored.Next ranking is given on eah feature based on their elimination orde. In the worst case, if a dataset contains N number of features RFE will do a greedy search for $N^2$ combinations of features."
      ]
    },
    {
      "cell_type": "markdown",
      "metadata": {
        "id": "EBe5Px3YgL2L"
      },
      "source": [
        "\n",
        "reference video: https://www.youtube.com/watch?v=MYnxxRoPiwI\n",
        "\n",
        "Note: the video is using random forest classifier, but we are going to use logistic regression as our model."
      ]
    },
    {
      "cell_type": "code",
      "metadata": {
        "id": "zI0kF9JMgL2L"
      },
      "source": [
        "# import RFE and LogisticRegression\n",
        "\n"
      ],
      "execution_count": null,
      "outputs": []
    },
    {
      "cell_type": "code",
      "metadata": {
        "id": "QJemcihzgL2M"
      },
      "source": [
        "# Initialise model variable with LogisticRegression function with solver = 'liblinear'\n",
        "model=#\n",
        "\n",
        "# rfe variable has RFE instance with should have model and n_features_to_select=4 as parameters\n",
        "\n",
        "rfe=#"
      ],
      "execution_count": null,
      "outputs": []
    },
    {
      "cell_type": "code",
      "metadata": {
        "id": "L25vrmDmgL2M"
      },
      "source": [
        "# fit rfe with X and Y\n",
        "\n",
        "fit=#\n",
        "\n"
      ],
      "execution_count": null,
      "outputs": []
    },
    {
      "cell_type": "code",
      "metadata": {
        "id": "i8zFhUe6gL2M",
        "outputId": "20ebe4fe-1c8e-4d2a-9750-12151f8ae4b9"
      },
      "source": [
        "print('Number of selected features',fit.n_features_)\n",
        "print('Selected Features',fit.support_)\n",
        "print('Feature rankings',fit.ranking_)"
      ],
      "execution_count": null,
      "outputs": [
        {
          "output_type": "stream",
          "text": [
            "Number of selected features 4\n",
            "Selected Features [ True  True False False False  True  True False]\n",
            "Feature rankings [1 1 2 4 5 1 1 3]\n"
          ],
          "name": "stdout"
        }
      ]
    },
    {
      "cell_type": "code",
      "metadata": {
        "id": "Ol3i7paigL2N"
      },
      "source": [
        "# use below function to get ranks of all the features\n",
        "def feature_ranks(X,Rank,Support):\n",
        "    feature_rank=pd.DataFrame()\n",
        "    for i in range(X.shape[1]):\n",
        "        new =pd.DataFrame({\"Features\":X.columns[i],\"Rank\":Rank[i],'Selected':Support[i]},index=[i])\n",
        "        feature_rank=pd.concat([feature_rank,new])\n",
        "    return feature_rank\n"
      ],
      "execution_count": null,
      "outputs": []
    },
    {
      "cell_type": "code",
      "metadata": {
        "id": "wD40zozXgL2N",
        "outputId": "22ada89b-9c59-491e-96e7-ef057ebbe0f3"
      },
      "source": [
        "#Get all feature's ranks using feature_ranks function with suitable parameters. Sotre it in variable called feature_rank_df\n",
        "feature_rank_df=#\n",
        "\n",
        "# print feature_rank_df\n"
      ],
      "execution_count": null,
      "outputs": [
        {
          "output_type": "execute_result",
          "data": {
            "text/html": [
              "<div>\n",
              "<style scoped>\n",
              "    .dataframe tbody tr th:only-of-type {\n",
              "        vertical-align: middle;\n",
              "    }\n",
              "\n",
              "    .dataframe tbody tr th {\n",
              "        vertical-align: top;\n",
              "    }\n",
              "\n",
              "    .dataframe thead th {\n",
              "        text-align: right;\n",
              "    }\n",
              "</style>\n",
              "<table border=\"1\" class=\"dataframe\">\n",
              "  <thead>\n",
              "    <tr style=\"text-align: right;\">\n",
              "      <th></th>\n",
              "      <th>Features</th>\n",
              "      <th>Rank</th>\n",
              "      <th>Selected</th>\n",
              "    </tr>\n",
              "  </thead>\n",
              "  <tbody>\n",
              "    <tr>\n",
              "      <th>0</th>\n",
              "      <td>Pregnancies</td>\n",
              "      <td>1</td>\n",
              "      <td>True</td>\n",
              "    </tr>\n",
              "    <tr>\n",
              "      <th>1</th>\n",
              "      <td>Glucose</td>\n",
              "      <td>1</td>\n",
              "      <td>True</td>\n",
              "    </tr>\n",
              "    <tr>\n",
              "      <th>2</th>\n",
              "      <td>BloodPressure</td>\n",
              "      <td>2</td>\n",
              "      <td>False</td>\n",
              "    </tr>\n",
              "    <tr>\n",
              "      <th>3</th>\n",
              "      <td>SkinThickness</td>\n",
              "      <td>4</td>\n",
              "      <td>False</td>\n",
              "    </tr>\n",
              "    <tr>\n",
              "      <th>4</th>\n",
              "      <td>Insulin</td>\n",
              "      <td>5</td>\n",
              "      <td>False</td>\n",
              "    </tr>\n",
              "    <tr>\n",
              "      <th>5</th>\n",
              "      <td>BMI</td>\n",
              "      <td>1</td>\n",
              "      <td>True</td>\n",
              "    </tr>\n",
              "    <tr>\n",
              "      <th>6</th>\n",
              "      <td>DiabetesPedigreeFunction</td>\n",
              "      <td>1</td>\n",
              "      <td>True</td>\n",
              "    </tr>\n",
              "    <tr>\n",
              "      <th>7</th>\n",
              "      <td>Age</td>\n",
              "      <td>3</td>\n",
              "      <td>False</td>\n",
              "    </tr>\n",
              "  </tbody>\n",
              "</table>\n",
              "</div>"
            ],
            "text/plain": [
              "                   Features  Rank  Selected\n",
              "0               Pregnancies     1      True\n",
              "1                   Glucose     1      True\n",
              "2             BloodPressure     2     False\n",
              "3             SkinThickness     4     False\n",
              "4                   Insulin     5     False\n",
              "5                       BMI     1      True\n",
              "6  DiabetesPedigreeFunction     1      True\n",
              "7                       Age     3     False"
            ]
          },
          "metadata": {
            "tags": []
          },
          "execution_count": 244
        }
      ]
    },
    {
      "cell_type": "markdown",
      "metadata": {
        "id": "4gtsrx5VgL2O"
      },
      "source": [
        "We can see there are four features with rank 1 ,RFE states that these are the most significant features."
      ]
    },
    {
      "cell_type": "code",
      "metadata": {
        "id": "ozwiTcP_gL2O",
        "outputId": "df86f7c9-509e-4f38-d840-55321cf0d4af"
      },
      "source": [
        "# filter feature_rank_df  with selected column values as True and save result in variable called recursive_feature_names \n",
        "recursive_feature_names=#\n",
        "\n",
        "# print recursive_feature_names\n",
        "\n"
      ],
      "execution_count": null,
      "outputs": [
        {
          "output_type": "execute_result",
          "data": {
            "text/html": [
              "<div>\n",
              "<style scoped>\n",
              "    .dataframe tbody tr th:only-of-type {\n",
              "        vertical-align: middle;\n",
              "    }\n",
              "\n",
              "    .dataframe tbody tr th {\n",
              "        vertical-align: top;\n",
              "    }\n",
              "\n",
              "    .dataframe thead th {\n",
              "        text-align: right;\n",
              "    }\n",
              "</style>\n",
              "<table border=\"1\" class=\"dataframe\">\n",
              "  <thead>\n",
              "    <tr style=\"text-align: right;\">\n",
              "      <th></th>\n",
              "      <th>Features</th>\n",
              "      <th>Rank</th>\n",
              "      <th>Selected</th>\n",
              "    </tr>\n",
              "  </thead>\n",
              "  <tbody>\n",
              "    <tr>\n",
              "      <th>0</th>\n",
              "      <td>Pregnancies</td>\n",
              "      <td>1</td>\n",
              "      <td>True</td>\n",
              "    </tr>\n",
              "    <tr>\n",
              "      <th>1</th>\n",
              "      <td>Glucose</td>\n",
              "      <td>1</td>\n",
              "      <td>True</td>\n",
              "    </tr>\n",
              "    <tr>\n",
              "      <th>5</th>\n",
              "      <td>BMI</td>\n",
              "      <td>1</td>\n",
              "      <td>True</td>\n",
              "    </tr>\n",
              "    <tr>\n",
              "      <th>6</th>\n",
              "      <td>DiabetesPedigreeFunction</td>\n",
              "      <td>1</td>\n",
              "      <td>True</td>\n",
              "    </tr>\n",
              "  </tbody>\n",
              "</table>\n",
              "</div>"
            ],
            "text/plain": [
              "                   Features  Rank  Selected\n",
              "0               Pregnancies     1      True\n",
              "1                   Glucose     1      True\n",
              "5                       BMI     1      True\n",
              "6  DiabetesPedigreeFunction     1      True"
            ]
          },
          "metadata": {
            "tags": []
          },
          "execution_count": 247
        }
      ]
    },
    {
      "cell_type": "code",
      "metadata": {
        "id": "641sDVWvgL2O",
        "outputId": "ef87aa30-9791-433d-b65a-0ded55b2e6d9"
      },
      "source": [
        "# finally get dataframe X with all the features selected by RFE and store this result in variable called RFE_selected_features\n",
        "RFE_selected_features=#\n",
        "\n",
        "# print RFE head()\n",
        "\n"
      ],
      "execution_count": null,
      "outputs": [
        {
          "output_type": "execute_result",
          "data": {
            "text/html": [
              "<div>\n",
              "<style scoped>\n",
              "    .dataframe tbody tr th:only-of-type {\n",
              "        vertical-align: middle;\n",
              "    }\n",
              "\n",
              "    .dataframe tbody tr th {\n",
              "        vertical-align: top;\n",
              "    }\n",
              "\n",
              "    .dataframe thead th {\n",
              "        text-align: right;\n",
              "    }\n",
              "</style>\n",
              "<table border=\"1\" class=\"dataframe\">\n",
              "  <thead>\n",
              "    <tr style=\"text-align: right;\">\n",
              "      <th></th>\n",
              "      <th>Pregnancies</th>\n",
              "      <th>Glucose</th>\n",
              "      <th>BMI</th>\n",
              "      <th>DiabetesPedigreeFunction</th>\n",
              "    </tr>\n",
              "  </thead>\n",
              "  <tbody>\n",
              "    <tr>\n",
              "      <th>0</th>\n",
              "      <td>6</td>\n",
              "      <td>148</td>\n",
              "      <td>33.6</td>\n",
              "      <td>0.627</td>\n",
              "    </tr>\n",
              "    <tr>\n",
              "      <th>1</th>\n",
              "      <td>1</td>\n",
              "      <td>85</td>\n",
              "      <td>26.6</td>\n",
              "      <td>0.351</td>\n",
              "    </tr>\n",
              "    <tr>\n",
              "      <th>2</th>\n",
              "      <td>8</td>\n",
              "      <td>183</td>\n",
              "      <td>23.3</td>\n",
              "      <td>0.672</td>\n",
              "    </tr>\n",
              "    <tr>\n",
              "      <th>3</th>\n",
              "      <td>1</td>\n",
              "      <td>89</td>\n",
              "      <td>28.1</td>\n",
              "      <td>0.167</td>\n",
              "    </tr>\n",
              "    <tr>\n",
              "      <th>4</th>\n",
              "      <td>0</td>\n",
              "      <td>137</td>\n",
              "      <td>43.1</td>\n",
              "      <td>2.288</td>\n",
              "    </tr>\n",
              "  </tbody>\n",
              "</table>\n",
              "</div>"
            ],
            "text/plain": [
              "   Pregnancies  Glucose   BMI  DiabetesPedigreeFunction\n",
              "0            6      148  33.6                     0.627\n",
              "1            1       85  26.6                     0.351\n",
              "2            8      183  23.3                     0.672\n",
              "3            1       89  28.1                     0.167\n",
              "4            0      137  43.1                     2.288"
            ]
          },
          "metadata": {
            "tags": []
          },
          "execution_count": 248
        }
      ]
    },
    {
      "cell_type": "markdown",
      "metadata": {
        "id": "2x9H9zCYgL2P"
      },
      "source": [
        "We recommend you to watch this video to know about working of RFE:  https://www.youtube.com/watch?v=Yo1vYRdJ95k"
      ]
    },
    {
      "cell_type": "markdown",
      "metadata": {
        "id": "R1z5m1RlgL2P"
      },
      "source": [
        "# 3. Embedded Method using random forest\n",
        "\n",
        "<p style='text-align: right;'> 25 points</p>\n"
      ]
    },
    {
      "cell_type": "markdown",
      "metadata": {
        "id": "aO32EBb6gL2Q"
      },
      "source": [
        "Reference: https://www.youtube.com/watch?v=em4OFr-4C34"
      ]
    },
    {
      "cell_type": "markdown",
      "metadata": {
        "id": "3Oluf2yFgL2Q"
      },
      "source": [
        "Feature selection using Random forest comes under the category of Embedded methods. Embedded methods combine the qualities of filter and wrapper methods. They are implemented by algorithms that have their own built-in feature selection methods. Some of the benefits of embedded methods are :\n",
        "1. They are highly accurate.\n",
        "2. They generalize better.\n",
        "3. They are interpretable"
      ]
    },
    {
      "cell_type": "code",
      "metadata": {
        "id": "xr7zirl5gL2Q"
      },
      "source": [
        "#Importing libraries RandomForestClassifier and SelectFromModel\n",
        "\n"
      ],
      "execution_count": null,
      "outputs": []
    },
    {
      "cell_type": "code",
      "metadata": {
        "id": "5UsY4anhgL2R",
        "outputId": "bc40300a-54e2-4e7f-f0d4-e3f29ef4cc63"
      },
      "source": [
        "# load the csv file using pandas and print the head values\n",
        "\n",
        "# print diabetes.head()"
      ],
      "execution_count": null,
      "outputs": [
        {
          "output_type": "execute_result",
          "data": {
            "text/html": [
              "<div>\n",
              "<style scoped>\n",
              "    .dataframe tbody tr th:only-of-type {\n",
              "        vertical-align: middle;\n",
              "    }\n",
              "\n",
              "    .dataframe tbody tr th {\n",
              "        vertical-align: top;\n",
              "    }\n",
              "\n",
              "    .dataframe thead th {\n",
              "        text-align: right;\n",
              "    }\n",
              "</style>\n",
              "<table border=\"1\" class=\"dataframe\">\n",
              "  <thead>\n",
              "    <tr style=\"text-align: right;\">\n",
              "      <th></th>\n",
              "      <th>Pregnancies</th>\n",
              "      <th>Glucose</th>\n",
              "      <th>BloodPressure</th>\n",
              "      <th>SkinThickness</th>\n",
              "      <th>Insulin</th>\n",
              "      <th>BMI</th>\n",
              "      <th>DiabetesPedigreeFunction</th>\n",
              "      <th>Age</th>\n",
              "      <th>Outcome</th>\n",
              "    </tr>\n",
              "  </thead>\n",
              "  <tbody>\n",
              "    <tr>\n",
              "      <th>0</th>\n",
              "      <td>6</td>\n",
              "      <td>148</td>\n",
              "      <td>72</td>\n",
              "      <td>35</td>\n",
              "      <td>0</td>\n",
              "      <td>33.6</td>\n",
              "      <td>0.627</td>\n",
              "      <td>50</td>\n",
              "      <td>1</td>\n",
              "    </tr>\n",
              "    <tr>\n",
              "      <th>1</th>\n",
              "      <td>1</td>\n",
              "      <td>85</td>\n",
              "      <td>66</td>\n",
              "      <td>29</td>\n",
              "      <td>0</td>\n",
              "      <td>26.6</td>\n",
              "      <td>0.351</td>\n",
              "      <td>31</td>\n",
              "      <td>0</td>\n",
              "    </tr>\n",
              "    <tr>\n",
              "      <th>2</th>\n",
              "      <td>8</td>\n",
              "      <td>183</td>\n",
              "      <td>64</td>\n",
              "      <td>0</td>\n",
              "      <td>0</td>\n",
              "      <td>23.3</td>\n",
              "      <td>0.672</td>\n",
              "      <td>32</td>\n",
              "      <td>1</td>\n",
              "    </tr>\n",
              "    <tr>\n",
              "      <th>3</th>\n",
              "      <td>1</td>\n",
              "      <td>89</td>\n",
              "      <td>66</td>\n",
              "      <td>23</td>\n",
              "      <td>94</td>\n",
              "      <td>28.1</td>\n",
              "      <td>0.167</td>\n",
              "      <td>21</td>\n",
              "      <td>0</td>\n",
              "    </tr>\n",
              "    <tr>\n",
              "      <th>4</th>\n",
              "      <td>0</td>\n",
              "      <td>137</td>\n",
              "      <td>40</td>\n",
              "      <td>35</td>\n",
              "      <td>168</td>\n",
              "      <td>43.1</td>\n",
              "      <td>2.288</td>\n",
              "      <td>33</td>\n",
              "      <td>1</td>\n",
              "    </tr>\n",
              "  </tbody>\n",
              "</table>\n",
              "</div>"
            ],
            "text/plain": [
              "   Pregnancies  Glucose  BloodPressure  SkinThickness  Insulin   BMI  \\\n",
              "0            6      148             72             35        0  33.6   \n",
              "1            1       85             66             29        0  26.6   \n",
              "2            8      183             64              0        0  23.3   \n",
              "3            1       89             66             23       94  28.1   \n",
              "4            0      137             40             35      168  43.1   \n",
              "\n",
              "   DiabetesPedigreeFunction  Age  Outcome  \n",
              "0                     0.627   50        1  \n",
              "1                     0.351   31        0  \n",
              "2                     0.672   32        1  \n",
              "3                     0.167   21        0  \n",
              "4                     2.288   33        1  "
            ]
          },
          "metadata": {
            "tags": []
          },
          "execution_count": 250
        }
      ]
    },
    {
      "cell_type": "markdown",
      "metadata": {
        "id": "pHWJNszygL2R"
      },
      "source": [
        "In all feature selection procedures, it is a good practice to select the features by examining only the training set. This is to avoid overfitting.\n",
        "So considering we have a train and a test dataset. We select the features from the train set and then transfer the changes to the test set later"
      ]
    },
    {
      "cell_type": "code",
      "metadata": {
        "id": "5HtbvnmKgL2Z"
      },
      "source": [
        "# assign features to X and target 'outcome' to Y(Think why the 'outcome' column is taken as the target)\n"
      ],
      "execution_count": null,
      "outputs": []
    },
    {
      "cell_type": "code",
      "metadata": {
        "id": "H3g4rF2ngL2Z"
      },
      "source": [
        "# import test_train_split module\n",
        "\n",
        "# splitting of dataset(test_size=0.3)\n"
      ],
      "execution_count": null,
      "outputs": []
    },
    {
      "cell_type": "markdown",
      "metadata": {
        "id": "MaIbqP_dgL2a"
      },
      "source": [
        "Here We will do the model fitting and feature selection altogether in one line of code.\n",
        "\n",
        "Firstly, specify the random forest instance, indicating the number of trees.\n",
        "\n",
        "Then use selectFromModel object from sklearn to automatically select the features. Simple right?. Don't worry trust your code. It helps.\n",
        "\n",
        "Reference link to use selectFromModel: https://scikit-learn.org/stable/modules/generated/sklearn.feature_selection.SelectFromModel.html"
      ]
    },
    {
      "cell_type": "code",
      "metadata": {
        "id": "_chN7paygL2a",
        "outputId": "57090f5b-00b4-462a-c001-3e4c17d03577"
      },
      "source": [
        "#create an instance of Select from Model. Pass an object of Random Forest Classifier with n_estimators=100 as argument. \n",
        "sel = #code\n",
        "\n",
        "\n",
        "# fit sel on X and y \n",
        "\n"
      ],
      "execution_count": null,
      "outputs": [
        {
          "output_type": "execute_result",
          "data": {
            "text/plain": [
              "SelectFromModel(estimator=RandomForestClassifier())"
            ]
          },
          "metadata": {
            "tags": []
          },
          "execution_count": 253
        }
      ]
    },
    {
      "cell_type": "markdown",
      "metadata": {
        "id": "wjMLnM-ogL2b"
      },
      "source": [
        "SelectFromModel will select those features which importance is greater than the mean importance of all the features by default, but we can alter this threshold if we want.\n",
        "\n",
        " To see which features are important we can use get_support method on the fitted model."
      ]
    },
    {
      "cell_type": "code",
      "metadata": {
        "id": "TIPDmMEDgL2b",
        "outputId": "0e05f4a5-f14b-4265-d611-a72a17ef4b06"
      },
      "source": [
        "# Using sel.get_support() print the boolean values for the features selected. \n",
        "\n"
      ],
      "execution_count": null,
      "outputs": [
        {
          "output_type": "execute_result",
          "data": {
            "text/plain": [
              "array([False,  True, False, False, False,  True, False,  True])"
            ]
          },
          "metadata": {
            "tags": []
          },
          "execution_count": 254
        }
      ]
    },
    {
      "cell_type": "code",
      "metadata": {
        "id": "mofS3_HvgL2c",
        "outputId": "11d6c1cb-323a-43f8-822a-fa86398d16ab"
      },
      "source": [
        "#make a list named selected_feat with all columns which are True\n",
        "selected_feat= #code\n",
        "\n",
        "# print length of selected_feat\n"
      ],
      "execution_count": null,
      "outputs": [
        {
          "output_type": "execute_result",
          "data": {
            "text/plain": [
              "3"
            ]
          },
          "metadata": {
            "tags": []
          },
          "execution_count": 255
        }
      ]
    },
    {
      "cell_type": "code",
      "metadata": {
        "id": "7EBE0m-egL2c",
        "outputId": "268310f5-6a32-485c-9c53-d77d63330003"
      },
      "source": [
        "# Print selected_feat\n"
      ],
      "execution_count": null,
      "outputs": [
        {
          "output_type": "stream",
          "text": [
            "Index(['Glucose', 'BMI', 'Age'], dtype='object')\n"
          ],
          "name": "stdout"
        }
      ]
    },
    {
      "cell_type": "markdown",
      "metadata": {
        "id": "ijAzpxCSgL2d"
      },
      "source": [
        "Well done Champ!. Let us impliment SelectFromModel using LinearSVC model also"
      ]
    },
    {
      "cell_type": "markdown",
      "metadata": {
        "id": "AJO8jsw_gL2d"
      },
      "source": [
        "## Feature selection using SelectFromModel\n",
        "\n",
        "<p style='text-align: right;'> 25 points</p>\n",
        "\n",
        "\n",
        "SelectFromModel is a meta-transformer that can be used along with any estimator that has a coef_ or featureimportances attribute after fitting. The features are considered unimportant and removed, if the corresponding coef_ or featureimportances values are below the provided threshold parameter. Apart from specifying the threshold numerically, there are built-in heuristics for finding a threshold using a string argument. Available heuristics are “mean”, “median” and float multiples of these like “0.1*mean”.\n",
        "\n",
        "Lets use selectfrommodel again with LinearSVC"
      ]
    },
    {
      "cell_type": "code",
      "metadata": {
        "id": "XaKkOvgDgL2d"
      },
      "source": [
        "# import LinearSVC \n"
      ],
      "execution_count": null,
      "outputs": []
    },
    {
      "cell_type": "code",
      "metadata": {
        "id": "3QXpvVQFgL2e",
        "outputId": "6bd33ef1-4170-40ff-fde0-cdc57e5fe3e8"
      },
      "source": [
        "#Use SelectFromModel with LinearSVC() as its parameter and save it in variable 'm'\n",
        "\n",
        "m = #code\n",
        "\n",
        "#fit m with X and Y\n",
        "\n"
      ],
      "execution_count": null,
      "outputs": [
        {
          "output_type": "stream",
          "text": [
            "/home/ec2-user/anaconda3/envs/python3/lib/python3.6/site-packages/sklearn/svm/_base.py:986: ConvergenceWarning: Liblinear failed to converge, increase the number of iterations.\n",
            "  \"the number of iterations.\", ConvergenceWarning)\n"
          ],
          "name": "stderr"
        },
        {
          "output_type": "execute_result",
          "data": {
            "text/plain": [
              "SelectFromModel(estimator=LinearSVC())"
            ]
          },
          "metadata": {
            "tags": []
          },
          "execution_count": 260
        }
      ]
    },
    {
      "cell_type": "code",
      "metadata": {
        "id": "tqIZ6POhgL2e",
        "outputId": "0c437f01-abe1-4c36-a46f-28cac5a22be0"
      },
      "source": [
        "#make a list named selected_feat with all columns which are supported\n",
        "\n",
        "selected_feat=#\n",
        "\n",
        "print(selected_feat)"
      ],
      "execution_count": null,
      "outputs": [
        {
          "output_type": "stream",
          "text": [
            "Index(['Pregnancies', 'DiabetesPedigreeFunction'], dtype='object')\n"
          ],
          "name": "stdout"
        }
      ]
    },
    {
      "cell_type": "markdown",
      "metadata": {
        "id": "0uKQLysfgL2f"
      },
      "source": [
        " # 4. Handling Multicollinearity with VIF\n",
        " \n",
        " <p style='text-align: right;'> 15 points</p>\n"
      ]
    },
    {
      "cell_type": "markdown",
      "metadata": {
        "id": "P9HImsZwgL2f"
      },
      "source": [
        "Multicollinearity refers to a situation in which more than two explanatory variables in a multiple regression model are highly linearly related. We have perfect multicollinearity if, for example as in the equation above, the correlation between two independent variables is equal to 1 or −1."
      ]
    },
    {
      "cell_type": "markdown",
      "metadata": {
        "id": "CpFuB7szgL2g"
      },
      "source": [
        "Variance inflation factor measures how much the behavior (variance) of an independent variable is influenced, or inflated, by its interaction/correlation with the other independent variables.\n",
        "\n",
        "VIF has big defination but for now understand that:-\n",
        "Variance inflation factor (VIF) is a measure of the amount of multicollinearity in a set of multiple regression variables"
      ]
    },
    {
      "cell_type": "markdown",
      "metadata": {
        "id": "PGF7Dwn4gL2g"
      },
      "source": [
        "Reference: https://www.youtube.com/watch?v=6JpmgzCAusI"
      ]
    },
    {
      "cell_type": "code",
      "metadata": {
        "id": "9o6Bgi3ngL2h",
        "outputId": "ac3741d2-f320-41dd-ca50-3885f1b2e13c"
      },
      "source": [
        "#load and read the diabetes_cleaned.csv file using pandas and print the head values\n",
        "\n",
        "dia_df="
      ],
      "execution_count": null,
      "outputs": [
        {
          "output_type": "execute_result",
          "data": {
            "text/html": [
              "<div>\n",
              "<style scoped>\n",
              "    .dataframe tbody tr th:only-of-type {\n",
              "        vertical-align: middle;\n",
              "    }\n",
              "\n",
              "    .dataframe tbody tr th {\n",
              "        vertical-align: top;\n",
              "    }\n",
              "\n",
              "    .dataframe thead th {\n",
              "        text-align: right;\n",
              "    }\n",
              "</style>\n",
              "<table border=\"1\" class=\"dataframe\">\n",
              "  <thead>\n",
              "    <tr style=\"text-align: right;\">\n",
              "      <th></th>\n",
              "      <th>Pregnancies</th>\n",
              "      <th>Glucose</th>\n",
              "      <th>BloodPressure</th>\n",
              "      <th>SkinThickness</th>\n",
              "      <th>Insulin</th>\n",
              "      <th>BMI</th>\n",
              "      <th>DiabetesPedigreeFunction</th>\n",
              "      <th>Age</th>\n",
              "      <th>Outcome</th>\n",
              "    </tr>\n",
              "  </thead>\n",
              "  <tbody>\n",
              "    <tr>\n",
              "      <th>0</th>\n",
              "      <td>6.0</td>\n",
              "      <td>148.0</td>\n",
              "      <td>72.0</td>\n",
              "      <td>35.0</td>\n",
              "      <td>218.937760</td>\n",
              "      <td>33.6</td>\n",
              "      <td>0.627</td>\n",
              "      <td>50.0</td>\n",
              "      <td>1</td>\n",
              "    </tr>\n",
              "    <tr>\n",
              "      <th>1</th>\n",
              "      <td>1.0</td>\n",
              "      <td>85.0</td>\n",
              "      <td>66.0</td>\n",
              "      <td>29.0</td>\n",
              "      <td>70.189298</td>\n",
              "      <td>26.6</td>\n",
              "      <td>0.351</td>\n",
              "      <td>31.0</td>\n",
              "      <td>0</td>\n",
              "    </tr>\n",
              "    <tr>\n",
              "      <th>2</th>\n",
              "      <td>8.0</td>\n",
              "      <td>183.0</td>\n",
              "      <td>64.0</td>\n",
              "      <td>29.0</td>\n",
              "      <td>269.968908</td>\n",
              "      <td>23.3</td>\n",
              "      <td>0.672</td>\n",
              "      <td>32.0</td>\n",
              "      <td>1</td>\n",
              "    </tr>\n",
              "    <tr>\n",
              "      <th>3</th>\n",
              "      <td>1.0</td>\n",
              "      <td>89.0</td>\n",
              "      <td>66.0</td>\n",
              "      <td>23.0</td>\n",
              "      <td>94.000000</td>\n",
              "      <td>28.1</td>\n",
              "      <td>0.167</td>\n",
              "      <td>21.0</td>\n",
              "      <td>0</td>\n",
              "    </tr>\n",
              "    <tr>\n",
              "      <th>4</th>\n",
              "      <td>0.0</td>\n",
              "      <td>137.0</td>\n",
              "      <td>40.0</td>\n",
              "      <td>35.0</td>\n",
              "      <td>168.000000</td>\n",
              "      <td>43.1</td>\n",
              "      <td>2.288</td>\n",
              "      <td>33.0</td>\n",
              "      <td>1</td>\n",
              "    </tr>\n",
              "  </tbody>\n",
              "</table>\n",
              "</div>"
            ],
            "text/plain": [
              "   Pregnancies  Glucose  BloodPressure  SkinThickness     Insulin   BMI  \\\n",
              "0          6.0    148.0           72.0           35.0  218.937760  33.6   \n",
              "1          1.0     85.0           66.0           29.0   70.189298  26.6   \n",
              "2          8.0    183.0           64.0           29.0  269.968908  23.3   \n",
              "3          1.0     89.0           66.0           23.0   94.000000  28.1   \n",
              "4          0.0    137.0           40.0           35.0  168.000000  43.1   \n",
              "\n",
              "   DiabetesPedigreeFunction   Age  Outcome  \n",
              "0                     0.627  50.0        1  \n",
              "1                     0.351  31.0        0  \n",
              "2                     0.672  32.0        1  \n",
              "3                     0.167  21.0        0  \n",
              "4                     2.288  33.0        1  "
            ]
          },
          "metadata": {
            "tags": []
          },
          "execution_count": 263
        }
      ]
    },
    {
      "cell_type": "code",
      "metadata": {
        "id": "MPewu1JxgL2h",
        "outputId": "382d28a3-c222-4aaf-9249-1c7138f646f3"
      },
      "source": [
        "# describe the dataframe using .describe()\n",
        "\n"
      ],
      "execution_count": null,
      "outputs": [
        {
          "output_type": "execute_result",
          "data": {
            "text/html": [
              "<div>\n",
              "<style scoped>\n",
              "    .dataframe tbody tr th:only-of-type {\n",
              "        vertical-align: middle;\n",
              "    }\n",
              "\n",
              "    .dataframe tbody tr th {\n",
              "        vertical-align: top;\n",
              "    }\n",
              "\n",
              "    .dataframe thead th {\n",
              "        text-align: right;\n",
              "    }\n",
              "</style>\n",
              "<table border=\"1\" class=\"dataframe\">\n",
              "  <thead>\n",
              "    <tr style=\"text-align: right;\">\n",
              "      <th></th>\n",
              "      <th>Pregnancies</th>\n",
              "      <th>Glucose</th>\n",
              "      <th>BloodPressure</th>\n",
              "      <th>SkinThickness</th>\n",
              "      <th>Insulin</th>\n",
              "      <th>BMI</th>\n",
              "      <th>DiabetesPedigreeFunction</th>\n",
              "      <th>Age</th>\n",
              "      <th>Outcome</th>\n",
              "    </tr>\n",
              "  </thead>\n",
              "  <tbody>\n",
              "    <tr>\n",
              "      <th>count</th>\n",
              "      <td>768.000000</td>\n",
              "      <td>768.000000</td>\n",
              "      <td>768.000000</td>\n",
              "      <td>768.000000</td>\n",
              "      <td>768.000000</td>\n",
              "      <td>768.000000</td>\n",
              "      <td>768.000000</td>\n",
              "      <td>768.000000</td>\n",
              "      <td>768.000000</td>\n",
              "    </tr>\n",
              "    <tr>\n",
              "      <th>mean</th>\n",
              "      <td>3.845052</td>\n",
              "      <td>121.539062</td>\n",
              "      <td>72.405184</td>\n",
              "      <td>29.108073</td>\n",
              "      <td>152.222767</td>\n",
              "      <td>32.307682</td>\n",
              "      <td>0.471876</td>\n",
              "      <td>33.240885</td>\n",
              "      <td>0.348958</td>\n",
              "    </tr>\n",
              "    <tr>\n",
              "      <th>std</th>\n",
              "      <td>3.369578</td>\n",
              "      <td>30.490660</td>\n",
              "      <td>12.096346</td>\n",
              "      <td>8.791221</td>\n",
              "      <td>97.387162</td>\n",
              "      <td>6.986674</td>\n",
              "      <td>0.331329</td>\n",
              "      <td>11.760232</td>\n",
              "      <td>0.476951</td>\n",
              "    </tr>\n",
              "    <tr>\n",
              "      <th>min</th>\n",
              "      <td>0.000000</td>\n",
              "      <td>44.000000</td>\n",
              "      <td>24.000000</td>\n",
              "      <td>7.000000</td>\n",
              "      <td>-17.757186</td>\n",
              "      <td>18.200000</td>\n",
              "      <td>0.078000</td>\n",
              "      <td>21.000000</td>\n",
              "      <td>0.000000</td>\n",
              "    </tr>\n",
              "    <tr>\n",
              "      <th>25%</th>\n",
              "      <td>1.000000</td>\n",
              "      <td>99.000000</td>\n",
              "      <td>64.000000</td>\n",
              "      <td>25.000000</td>\n",
              "      <td>89.647494</td>\n",
              "      <td>27.300000</td>\n",
              "      <td>0.243750</td>\n",
              "      <td>24.000000</td>\n",
              "      <td>0.000000</td>\n",
              "    </tr>\n",
              "    <tr>\n",
              "      <th>50%</th>\n",
              "      <td>3.000000</td>\n",
              "      <td>117.000000</td>\n",
              "      <td>72.202592</td>\n",
              "      <td>29.000000</td>\n",
              "      <td>130.000000</td>\n",
              "      <td>32.000000</td>\n",
              "      <td>0.372500</td>\n",
              "      <td>29.000000</td>\n",
              "      <td>0.000000</td>\n",
              "    </tr>\n",
              "    <tr>\n",
              "      <th>75%</th>\n",
              "      <td>6.000000</td>\n",
              "      <td>140.250000</td>\n",
              "      <td>80.000000</td>\n",
              "      <td>32.000000</td>\n",
              "      <td>188.448695</td>\n",
              "      <td>36.600000</td>\n",
              "      <td>0.626250</td>\n",
              "      <td>41.000000</td>\n",
              "      <td>1.000000</td>\n",
              "    </tr>\n",
              "    <tr>\n",
              "      <th>max</th>\n",
              "      <td>17.000000</td>\n",
              "      <td>199.000000</td>\n",
              "      <td>122.000000</td>\n",
              "      <td>99.000000</td>\n",
              "      <td>846.000000</td>\n",
              "      <td>67.100000</td>\n",
              "      <td>2.420000</td>\n",
              "      <td>81.000000</td>\n",
              "      <td>1.000000</td>\n",
              "    </tr>\n",
              "  </tbody>\n",
              "</table>\n",
              "</div>"
            ],
            "text/plain": [
              "       Pregnancies     Glucose  BloodPressure  SkinThickness     Insulin  \\\n",
              "count   768.000000  768.000000     768.000000     768.000000  768.000000   \n",
              "mean      3.845052  121.539062      72.405184      29.108073  152.222767   \n",
              "std       3.369578   30.490660      12.096346       8.791221   97.387162   \n",
              "min       0.000000   44.000000      24.000000       7.000000  -17.757186   \n",
              "25%       1.000000   99.000000      64.000000      25.000000   89.647494   \n",
              "50%       3.000000  117.000000      72.202592      29.000000  130.000000   \n",
              "75%       6.000000  140.250000      80.000000      32.000000  188.448695   \n",
              "max      17.000000  199.000000     122.000000      99.000000  846.000000   \n",
              "\n",
              "              BMI  DiabetesPedigreeFunction         Age     Outcome  \n",
              "count  768.000000                768.000000  768.000000  768.000000  \n",
              "mean    32.307682                  0.471876   33.240885    0.348958  \n",
              "std      6.986674                  0.331329   11.760232    0.476951  \n",
              "min     18.200000                  0.078000   21.000000    0.000000  \n",
              "25%     27.300000                  0.243750   24.000000    0.000000  \n",
              "50%     32.000000                  0.372500   29.000000    0.000000  \n",
              "75%     36.600000                  0.626250   41.000000    1.000000  \n",
              "max     67.100000                  2.420000   81.000000    1.000000  "
            ]
          },
          "metadata": {
            "tags": []
          },
          "execution_count": 264
        }
      ]
    },
    {
      "cell_type": "markdown",
      "metadata": {
        "id": "Exu544ndgL2i"
      },
      "source": [
        "As we can see range of these features are very different that means they all are in different scales so lets standardize the features using sklearn's preprocessing scale function.\n",
        "\n",
        "Reference doc: https://scikit-learn.org/stable/modules/generated/sklearn.preprocessing.scale.html"
      ]
    },
    {
      "cell_type": "code",
      "metadata": {
        "id": "BFmSrTH-gL2i"
      },
      "source": [
        "from sklearn import preprocessing\n",
        "\n",
        "#iterate over all features in dia_df and scale\n",
        "\n"
      ],
      "execution_count": null,
      "outputs": []
    },
    {
      "cell_type": "code",
      "metadata": {
        "id": "IyOJUTXigL2i",
        "outputId": "332b8fc5-7731-4358-fa56-e27841ea1d96"
      },
      "source": [
        "# describe dataframe using .describe()\n",
        "\n"
      ],
      "execution_count": null,
      "outputs": [
        {
          "output_type": "execute_result",
          "data": {
            "text/html": [
              "<div>\n",
              "<style scoped>\n",
              "    .dataframe tbody tr th:only-of-type {\n",
              "        vertical-align: middle;\n",
              "    }\n",
              "\n",
              "    .dataframe tbody tr th {\n",
              "        vertical-align: top;\n",
              "    }\n",
              "\n",
              "    .dataframe thead th {\n",
              "        text-align: right;\n",
              "    }\n",
              "</style>\n",
              "<table border=\"1\" class=\"dataframe\">\n",
              "  <thead>\n",
              "    <tr style=\"text-align: right;\">\n",
              "      <th></th>\n",
              "      <th>Pregnancies</th>\n",
              "      <th>Glucose</th>\n",
              "      <th>BloodPressure</th>\n",
              "      <th>SkinThickness</th>\n",
              "      <th>Insulin</th>\n",
              "      <th>BMI</th>\n",
              "      <th>DiabetesPedigreeFunction</th>\n",
              "      <th>Age</th>\n",
              "      <th>Outcome</th>\n",
              "    </tr>\n",
              "  </thead>\n",
              "  <tbody>\n",
              "    <tr>\n",
              "      <th>count</th>\n",
              "      <td>7.680000e+02</td>\n",
              "      <td>7.680000e+02</td>\n",
              "      <td>7.680000e+02</td>\n",
              "      <td>7.680000e+02</td>\n",
              "      <td>7.680000e+02</td>\n",
              "      <td>7.680000e+02</td>\n",
              "      <td>7.680000e+02</td>\n",
              "      <td>7.680000e+02</td>\n",
              "      <td>7.680000e+02</td>\n",
              "    </tr>\n",
              "    <tr>\n",
              "      <th>mean</th>\n",
              "      <td>5.898060e-17</td>\n",
              "      <td>-7.372575e-18</td>\n",
              "      <td>1.163710e-17</td>\n",
              "      <td>-2.822540e-17</td>\n",
              "      <td>-4.192248e-18</td>\n",
              "      <td>2.276825e-17</td>\n",
              "      <td>3.715199e-17</td>\n",
              "      <td>-9.107298e-18</td>\n",
              "      <td>2.353442e-16</td>\n",
              "    </tr>\n",
              "    <tr>\n",
              "      <th>std</th>\n",
              "      <td>1.000652e+00</td>\n",
              "      <td>1.000652e+00</td>\n",
              "      <td>1.000652e+00</td>\n",
              "      <td>1.000652e+00</td>\n",
              "      <td>1.000652e+00</td>\n",
              "      <td>1.000652e+00</td>\n",
              "      <td>1.000652e+00</td>\n",
              "      <td>1.000652e+00</td>\n",
              "      <td>1.000652e+00</td>\n",
              "    </tr>\n",
              "    <tr>\n",
              "      <th>min</th>\n",
              "      <td>-1.141852e+00</td>\n",
              "      <td>-2.544700e+00</td>\n",
              "      <td>-4.004245e+00</td>\n",
              "      <td>-2.516429e+00</td>\n",
              "      <td>-1.746542e+00</td>\n",
              "      <td>-2.020543e+00</td>\n",
              "      <td>-1.189553e+00</td>\n",
              "      <td>-1.041549e+00</td>\n",
              "      <td>-7.321202e-01</td>\n",
              "    </tr>\n",
              "    <tr>\n",
              "      <th>25%</th>\n",
              "      <td>-8.448851e-01</td>\n",
              "      <td>-7.396938e-01</td>\n",
              "      <td>-6.953060e-01</td>\n",
              "      <td>-4.675972e-01</td>\n",
              "      <td>-6.429600e-01</td>\n",
              "      <td>-7.172147e-01</td>\n",
              "      <td>-6.889685e-01</td>\n",
              "      <td>-7.862862e-01</td>\n",
              "      <td>-7.321202e-01</td>\n",
              "    </tr>\n",
              "    <tr>\n",
              "      <th>50%</th>\n",
              "      <td>-2.509521e-01</td>\n",
              "      <td>-1.489643e-01</td>\n",
              "      <td>-1.675912e-02</td>\n",
              "      <td>-1.230129e-02</td>\n",
              "      <td>-2.283386e-01</td>\n",
              "      <td>-4.406715e-02</td>\n",
              "      <td>-3.001282e-01</td>\n",
              "      <td>-3.608474e-01</td>\n",
              "      <td>-7.321202e-01</td>\n",
              "    </tr>\n",
              "    <tr>\n",
              "      <th>75%</th>\n",
              "      <td>6.399473e-01</td>\n",
              "      <td>6.140612e-01</td>\n",
              "      <td>6.282695e-01</td>\n",
              "      <td>3.291706e-01</td>\n",
              "      <td>3.722209e-01</td>\n",
              "      <td>6.147581e-01</td>\n",
              "      <td>4.662269e-01</td>\n",
              "      <td>6.602056e-01</td>\n",
              "      <td>1.365896e+00</td>\n",
              "    </tr>\n",
              "    <tr>\n",
              "      <th>max</th>\n",
              "      <td>3.906578e+00</td>\n",
              "      <td>2.542136e+00</td>\n",
              "      <td>4.102655e+00</td>\n",
              "      <td>7.955377e+00</td>\n",
              "      <td>7.128551e+00</td>\n",
              "      <td>4.983056e+00</td>\n",
              "      <td>5.883565e+00</td>\n",
              "      <td>4.063716e+00</td>\n",
              "      <td>1.365896e+00</td>\n",
              "    </tr>\n",
              "  </tbody>\n",
              "</table>\n",
              "</div>"
            ],
            "text/plain": [
              "        Pregnancies       Glucose  BloodPressure  SkinThickness       Insulin  \\\n",
              "count  7.680000e+02  7.680000e+02   7.680000e+02   7.680000e+02  7.680000e+02   \n",
              "mean   5.898060e-17 -7.372575e-18   1.163710e-17  -2.822540e-17 -4.192248e-18   \n",
              "std    1.000652e+00  1.000652e+00   1.000652e+00   1.000652e+00  1.000652e+00   \n",
              "min   -1.141852e+00 -2.544700e+00  -4.004245e+00  -2.516429e+00 -1.746542e+00   \n",
              "25%   -8.448851e-01 -7.396938e-01  -6.953060e-01  -4.675972e-01 -6.429600e-01   \n",
              "50%   -2.509521e-01 -1.489643e-01  -1.675912e-02  -1.230129e-02 -2.283386e-01   \n",
              "75%    6.399473e-01  6.140612e-01   6.282695e-01   3.291706e-01  3.722209e-01   \n",
              "max    3.906578e+00  2.542136e+00   4.102655e+00   7.955377e+00  7.128551e+00   \n",
              "\n",
              "                BMI  DiabetesPedigreeFunction           Age       Outcome  \n",
              "count  7.680000e+02              7.680000e+02  7.680000e+02  7.680000e+02  \n",
              "mean   2.276825e-17              3.715199e-17 -9.107298e-18  2.353442e-16  \n",
              "std    1.000652e+00              1.000652e+00  1.000652e+00  1.000652e+00  \n",
              "min   -2.020543e+00             -1.189553e+00 -1.041549e+00 -7.321202e-01  \n",
              "25%   -7.172147e-01             -6.889685e-01 -7.862862e-01 -7.321202e-01  \n",
              "50%   -4.406715e-02             -3.001282e-01 -3.608474e-01 -7.321202e-01  \n",
              "75%    6.147581e-01              4.662269e-01  6.602056e-01  1.365896e+00  \n",
              "max    4.983056e+00              5.883565e+00  4.063716e+00  1.365896e+00  "
            ]
          },
          "metadata": {
            "tags": []
          },
          "execution_count": 267
        }
      ]
    },
    {
      "cell_type": "code",
      "metadata": {
        "id": "omH78SVLgL2j"
      },
      "source": [
        "#import variance inflation factor\n"
      ],
      "execution_count": null,
      "outputs": []
    },
    {
      "cell_type": "code",
      "metadata": {
        "id": "faXfOXNTgL2j"
      },
      "source": [
        "# assign features to X and target to Y \n",
        "\n",
        "\n",
        "\n",
        "# split the data to test and train with test_size=0.2\n"
      ],
      "execution_count": null,
      "outputs": []
    },
    {
      "cell_type": "code",
      "metadata": {
        "id": "0JZkuBFAgL2j"
      },
      "source": [
        "#assign an empty dataframe to variable vif\n",
        "vif=#\n",
        "\n",
        "# make a new column 'VIF Factor' in vif dataframe and calculate the variance_inflation_factor for each X \n",
        "vif['VIF Factor']=#"
      ],
      "execution_count": null,
      "outputs": []
    },
    {
      "cell_type": "code",
      "metadata": {
        "id": "STgbo21fgL2k"
      },
      "source": [
        "# define vif['Features'] with columns names in X\n",
        "\n",
        "vif['Features']="
      ],
      "execution_count": null,
      "outputs": []
    },
    {
      "cell_type": "code",
      "metadata": {
        "id": "n7skfuN9gL2k",
        "outputId": "df349091-208e-4d9c-fde7-11a0c3b125ae"
      },
      "source": [
        "#  round off all the decimal values in the dataframe to 2 decimal places for VIF dataframe and print it.\n",
        "\n"
      ],
      "execution_count": null,
      "outputs": [
        {
          "output_type": "execute_result",
          "data": {
            "text/html": [
              "<div>\n",
              "<style scoped>\n",
              "    .dataframe tbody tr th:only-of-type {\n",
              "        vertical-align: middle;\n",
              "    }\n",
              "\n",
              "    .dataframe tbody tr th {\n",
              "        vertical-align: top;\n",
              "    }\n",
              "\n",
              "    .dataframe thead th {\n",
              "        text-align: right;\n",
              "    }\n",
              "</style>\n",
              "<table border=\"1\" class=\"dataframe\">\n",
              "  <thead>\n",
              "    <tr style=\"text-align: right;\">\n",
              "      <th></th>\n",
              "      <th>VIF Factor</th>\n",
              "      <th>Features</th>\n",
              "    </tr>\n",
              "  </thead>\n",
              "  <tbody>\n",
              "    <tr>\n",
              "      <th>0</th>\n",
              "      <td>1.43</td>\n",
              "      <td>Pregnancies</td>\n",
              "    </tr>\n",
              "    <tr>\n",
              "      <th>1</th>\n",
              "      <td>2.07</td>\n",
              "      <td>Glucose</td>\n",
              "    </tr>\n",
              "    <tr>\n",
              "      <th>2</th>\n",
              "      <td>1.24</td>\n",
              "      <td>BloodPressure</td>\n",
              "    </tr>\n",
              "    <tr>\n",
              "      <th>3</th>\n",
              "      <td>1.43</td>\n",
              "      <td>SkinThickness</td>\n",
              "    </tr>\n",
              "    <tr>\n",
              "      <th>4</th>\n",
              "      <td>2.04</td>\n",
              "      <td>Insulin</td>\n",
              "    </tr>\n",
              "    <tr>\n",
              "      <th>5</th>\n",
              "      <td>1.58</td>\n",
              "      <td>BMI</td>\n",
              "    </tr>\n",
              "    <tr>\n",
              "      <th>6</th>\n",
              "      <td>1.05</td>\n",
              "      <td>DiabetesPedigreeFunction</td>\n",
              "    </tr>\n",
              "    <tr>\n",
              "      <th>7</th>\n",
              "      <td>1.62</td>\n",
              "      <td>Age</td>\n",
              "    </tr>\n",
              "  </tbody>\n",
              "</table>\n",
              "</div>"
            ],
            "text/plain": [
              "   VIF Factor                  Features\n",
              "0        1.43               Pregnancies\n",
              "1        2.07                   Glucose\n",
              "2        1.24             BloodPressure\n",
              "3        1.43             SkinThickness\n",
              "4        2.04                   Insulin\n",
              "5        1.58                       BMI\n",
              "6        1.05  DiabetesPedigreeFunction\n",
              "7        1.62                       Age"
            ]
          },
          "metadata": {
            "tags": []
          },
          "execution_count": 282
        }
      ]
    },
    {
      "cell_type": "markdown",
      "metadata": {
        "id": "-ae4Q5eIgL2k"
      },
      "source": [
        "* VIF = 1: Not correlated\n",
        "* VIF =1-5: Moderately correlated\n",
        "* VIF >5: Highly correlated\n",
        "\n",
        "Glucose, Insulin, and Age are having large VIF scores, so lets drop it.\n",
        "\n"
      ]
    },
    {
      "cell_type": "code",
      "metadata": {
        "id": "rnM7mVP1gL2l"
      },
      "source": [
        "# according to above observation , drop  'Glucose', 'Insulin' and 'Age' from X\n",
        "\n",
        "X="
      ],
      "execution_count": null,
      "outputs": []
    },
    {
      "cell_type": "markdown",
      "metadata": {
        "id": "OMcGpyrCgL2l"
      },
      "source": [
        "Now again we calculate the VIF for the rest of the features\n",
        "\n",
        "Again repeat the previous steps to assign an empty dataframe() to vif and make a new column 'VIF Factor' and calculate the variance_inflation_factorfor each X \n"
      ]
    },
    {
      "cell_type": "code",
      "metadata": {
        "id": "1l6wrwybgL2l"
      },
      "source": [
        "#code here\n",
        "\n"
      ],
      "execution_count": null,
      "outputs": []
    },
    {
      "cell_type": "code",
      "metadata": {
        "id": "YN4g5WargL2m",
        "outputId": "4a7dd745-13f3-4dc9-f1e8-6165d763bbfa"
      },
      "source": [
        "#define vif['Features'] as columns of X and return vif with round off to 2 decimal places\n",
        "\n"
      ],
      "execution_count": null,
      "outputs": [
        {
          "output_type": "execute_result",
          "data": {
            "text/html": [
              "<div>\n",
              "<style scoped>\n",
              "    .dataframe tbody tr th:only-of-type {\n",
              "        vertical-align: middle;\n",
              "    }\n",
              "\n",
              "    .dataframe tbody tr th {\n",
              "        vertical-align: top;\n",
              "    }\n",
              "\n",
              "    .dataframe thead th {\n",
              "        text-align: right;\n",
              "    }\n",
              "</style>\n",
              "<table border=\"1\" class=\"dataframe\">\n",
              "  <thead>\n",
              "    <tr style=\"text-align: right;\">\n",
              "      <th></th>\n",
              "      <th>VIF Factor</th>\n",
              "      <th>Features</th>\n",
              "    </tr>\n",
              "  </thead>\n",
              "  <tbody>\n",
              "    <tr>\n",
              "      <th>0</th>\n",
              "      <td>1.05</td>\n",
              "      <td>Pregnancies</td>\n",
              "    </tr>\n",
              "    <tr>\n",
              "      <th>1</th>\n",
              "      <td>1.13</td>\n",
              "      <td>BloodPressure</td>\n",
              "    </tr>\n",
              "    <tr>\n",
              "      <th>2</th>\n",
              "      <td>1.42</td>\n",
              "      <td>SkinThickness</td>\n",
              "    </tr>\n",
              "    <tr>\n",
              "      <th>3</th>\n",
              "      <td>1.50</td>\n",
              "      <td>BMI</td>\n",
              "    </tr>\n",
              "    <tr>\n",
              "      <th>4</th>\n",
              "      <td>1.03</td>\n",
              "      <td>DiabetesPedigreeFunction</td>\n",
              "    </tr>\n",
              "  </tbody>\n",
              "</table>\n",
              "</div>"
            ],
            "text/plain": [
              "   VIF Factor                  Features\n",
              "0        1.05               Pregnancies\n",
              "1        1.13             BloodPressure\n",
              "2        1.42             SkinThickness\n",
              "3        1.50                       BMI\n",
              "4        1.03  DiabetesPedigreeFunction"
            ]
          },
          "metadata": {
            "tags": []
          },
          "execution_count": 285
        }
      ]
    },
    {
      "cell_type": "markdown",
      "metadata": {
        "id": "s4ztLAI9gL2m"
      },
      "source": [
        "So now colinearity of features has been reduced using VIF."
      ]
    },
    {
      "cell_type": "markdown",
      "metadata": {
        "id": "KffEjqxMgL2m"
      },
      "source": [
        "The need to fix multicollinearity depends primarily on the below reasons:\n",
        "\n",
        "1. When you care more about how much each individual feature rather than a group of features affects the target variable, then removing multicollinearity may be a good option\n",
        "2. If multicollinearity is not present in the features you are interested in, then multicollinearity may not be a problem."
      ]
    },
    {
      "cell_type": "markdown",
      "metadata": {
        "id": "AMmgEN3OgL2n"
      },
      "source": [
        "------------------------------\n",
        "\n",
        "# Hip Hip Hurray! Congratulations you have completed the 7th assignment too! Very well done.\n",
        "\n",
        "-------------------------------------"
      ]
    },
    {
      "cell_type": "markdown",
      "metadata": {
        "id": "_6aAHZczgL2n"
      },
      "source": [
        "# Its Feedback Time!\n",
        "\n",
        "We hope you’ve enjoyed this course so far. We’re committed to help you use \"AI for All\" course to its full potential, so that you have a great learning experience. And that’s why we need your help in form of a feedback here.\n",
        "\n",
        "**Please fill this feedback form**\n",
        " https://zfrmz.in/MtRG5oWXBdesm6rmSM7N"
      ]
    },
    {
      "cell_type": "markdown",
      "metadata": {
        "id": "zeDz6SEcgL2n"
      },
      "source": [
        "------------------------------"
      ]
    }
  ]
}